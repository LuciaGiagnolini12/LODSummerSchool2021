{
 "cells": [
  {
   "cell_type": "markdown",
   "metadata": {},
   "source": [
    "# LOD e documentazione storico artistica: i progetti della Fondazione Zeri con esercitazioni di data visualization \n",
    "### _Summer school LOD per i Beni culturali, 9 giugno 2021._\n",
    "\n",
    "#### Sommario\n",
    "\n",
    "1. Overview: **Il dataset di ARTchives**\n",
    "<br>\n",
    "2. **Data Vizualization**: obiettivi e metodi\n",
    "<br>\n",
    "3. Case study: **Quali sono i periodi storico-artistici più studiati dagli storici descritti in ARTchives?**\n",
    "<br>\n",
    "4. Case study: **Quali sono gli artisti e le personalità studiate dagli storici?**\n",
    "<br>\n",
    "5. Case study: **Quali sono i luoghi di studio ed attività degli storici?**\n",
    "\n",
    "\n",
    "\n"
   ]
  },
  {
   "cell_type": "markdown",
   "metadata": {},
   "source": [
    "### 1. Overview: **Il dataset di ARTchives**"
   ]
  },
  {
   "cell_type": "markdown",
   "metadata": {},
   "source": [
    "- Il dataset del progetto ARTchives include informazioni sui grandi __storici dell'arte__ degli ultimi 150 anni, i loro __archivi__, __temi di ricerca__ e le __istituzioni culturali__ che li hanno coinvolti.\n",
    "- È stato creato per facilitare la ricerca in _storiografia e storia dell'arte_.\n",
    "- È un dataset ancora in fase embrionale, che raccoglie informazioni su __26 archivi di storici dell'arte__.\n",
    "- Alta _qualità_ dei dati, inseriti da esperti delle 7 istituzioni partecipanti: _Fondazione Federico Zeri, Getty Research Institute, Università Roma Tre, Scuola Normale Superiore, Bibliotheca Hertziana, Kunsthistorisches Institut in Florenz, Fondazione Longhi_.\n",
    "\n",
    "<br>\n",
    "Abbiamo tre principali entità attorno alle quali ruota il dataset:\n",
    "\n",
    "(1)  __Storici dell'arte__\n",
    "(2)  __Archivi/collezioni__ degli storici dell'arte \n",
    "(3)  __Istituti conservatori__ degli archivi \n",
    "\n",
    "ad esse, sono collegate altre entità che identificano persone ed organizzazioni, contenuti, caratteristiche degli archivi ed altro. \n",
    "Quando possibile i dati vengono riconciliati con _Wikidata_, altimenti vengono creati URI _ex novo_.\n",
    "\n",
    "\n",
    "\n"
   ]
  },
  {
   "cell_type": "markdown",
   "metadata": {},
   "source": [
    "> __Aby Warburg__ --> __http://www.wikidata.org/entity/__Q60185\n",
    "<br>\n",
    "> __Fondo Aby Warburg__ --> __https://w3id.org/artchives/__collectionfondo-aby-warburg\n",
    "<br>\n",
    "> __main subject__ --> __https://www.wikidata.org/prop/direct/__P921\n",
    "<br>\n",
    "> __artista studiato__ --> __https://w3id.org/artchives/__hasSubjectArtis"
   ]
  },
  {
   "cell_type": "markdown",
   "metadata": {},
   "source": [
    "### Estraiamo la lista di tutti gli storici dell'arte descritti in __ARTchives__:"
   ]
  },
  {
   "cell_type": "code",
   "execution_count": 1,
   "metadata": {},
   "outputs": [
    {
     "name": "stdout",
     "output_type": "stream",
     "text": [
      "-------- Lista dei nomi e dei rispettivi URIs degli storici dell'arte: -------\n",
      "['Leo Steinberg', '<http://www.wikidata.org/entity/Q457739>', 'Federico Zeri', '<http://www.wikidata.org/entity/Q1089074>', 'Kurt Badt', '<http://www.wikidata.org/entity/Q1629748>', 'Ellis Waterhouse', '<http://www.wikidata.org/entity/Q3051533>', 'Adolfo Venturi', '<http://www.wikidata.org/entity/Q2824734>', 'Fritz Heinemann', '<http://www.wikidata.org/entity/Q1271052>', 'Stefano Tumidei', '<http://www.wikidata.org/entity/Q55453618>', 'Werner Cohn', '<http://www.wikidata.org/entity/Q18935222>', 'Luigi Salerno', '<http://www.wikidata.org/entity/Q6700132>', 'John Pope-Hennessy', '<http://www.wikidata.org/entity/Q537874>', 'Ernst Kitzinger', '<http://www.wikidata.org/entity/Q88907>', 'Wolfgang Lotz', '<http://www.wikidata.org/entity/Q1296486>', 'Richard Krautheimer', '<http://www.wikidata.org/entity/Q90407>', 'Kornél Fabriczy', '<http://www.wikidata.org/entity/Q995470>', 'Gustav Ludwig', '<http://www.wikidata.org/entity/Q41616785>', 'Otto Lehmann-Brockhaus', '<http://www.wikidata.org/entity/Q1641821>', 'Julius S. Held', '<http://www.wikidata.org/entity/Q1712683>', 'Aby Warburg', '<http://www.wikidata.org/entity/Q60185>', 'Julian Kliemann', '<http://www.wikidata.org/entity/Q85761254>', 'Ernst Steinmann', '<http://www.wikidata.org/entity/Q3057287>', 'Eugenio Battisti', '<http://www.wikidata.org/entity/Q1373290>', 'Everett Fahy', '<http://www.wikidata.org/entity/Q19997512>', 'Ulrich Middeldorf', '<http://www.wikidata.org/entity/Q1715096>', 'Luisa Vertova', '<http://www.wikidata.org/entity/Q61913691>']\n",
      "------ Lista degli URIs dei nostri storici dell'arte --------\n",
      "['<http://www.wikidata.org/entity/Q457739>', '<http://www.wikidata.org/entity/Q1089074>', '<http://www.wikidata.org/entity/Q1629748>', '<http://www.wikidata.org/entity/Q3051533>', '<http://www.wikidata.org/entity/Q2824734>', '<http://www.wikidata.org/entity/Q1271052>', '<http://www.wikidata.org/entity/Q55453618>', '<http://www.wikidata.org/entity/Q18935222>', '<http://www.wikidata.org/entity/Q6700132>', '<http://www.wikidata.org/entity/Q537874>', '<http://www.wikidata.org/entity/Q88907>', '<http://www.wikidata.org/entity/Q1296486>', '<http://www.wikidata.org/entity/Q90407>', '<http://www.wikidata.org/entity/Q995470>', '<http://www.wikidata.org/entity/Q41616785>', '<http://www.wikidata.org/entity/Q1641821>', '<http://www.wikidata.org/entity/Q1712683>', '<http://www.wikidata.org/entity/Q60185>', '<http://www.wikidata.org/entity/Q85761254>', '<http://www.wikidata.org/entity/Q3057287>', '<http://www.wikidata.org/entity/Q1373290>', '<http://www.wikidata.org/entity/Q19997512>', '<http://www.wikidata.org/entity/Q1715096>', '<http://www.wikidata.org/entity/Q61913691>']\n"
     ]
    }
   ],
   "source": [
    "! pip install rdflib\n",
    "\n",
    "import rdflib #python pacage che permette di lavorare con RDF \n",
    "from rdflib import Namespace , Literal , URIRef\n",
    "from rdflib.namespace import RDF , RDFS\n",
    "\n",
    "#impostiamo un grafo vuoto\n",
    "g = rdflib.ConjunctiveGraph()\n",
    "\n",
    "#riempiamo il grafo con il dataset di ARTchives. \n",
    "#N-Quads: sintassi per dataset RDF.\n",
    "#Le dichiarazioni N-quads sono una sequenza di termini RDF che rappresentano il soggetto, il predicato, l'oggetto e l'etichetta del grafo di una tripla RDF e il grafo di cui essa fa parte in un dataset. \n",
    "result = g.parse(\"artchives.nq\", format='nquads') \n",
    "\n",
    "#associamo un abbreviazione ai namespaces che utilizzeremo \n",
    "wd = Namespace(\"http://www.wikidata.org/entity/\") \n",
    "wdt = Namespace(\"http://www.wikidata.org/prop/direct/\")\n",
    "art = Namespace(\"https://w3id.org/artchives/\")\n",
    "rdfs = Namespace (\"http://www.w3.org/2000/01/\")\n",
    "\n",
    "\n",
    "arthistorians = list()\n",
    "arthistorians_uri = list()\n",
    "\n",
    "#serie di iterazioni sul grafo di ARTchives\n",
    "for s,p,o in g.triples(( None, wdt.P170, None)): #people \"o\" are the creator \"wdt.P170\" of a collection \"s\": art historians\n",
    "    for subj, prop, obj in g.triples((o, RDFS.label, None )):\n",
    "        if \"wikidata.org/entity/\" in str(o):  #cerchiamo solo gli storici riconciliati con wikidata        \n",
    "            if obj.strip() not in arthistorians: #creiamo due liste: una solo composta di URI e l'altra di nomi+URI\n",
    "                arthistorians.append(obj.strip())\n",
    "                arthistorians.append('<' + str(o) + '>')\n",
    "                arthistorians_uri.append('<' + str(o) + '>')\n",
    "\n",
    "\n",
    "print(\"-------- Lista dei nomi e dei rispettivi URIs degli storici dell'arte: -------\" )\n",
    "print(arthistorians)\n",
    "\n"
   ]
  },
  {
   "cell_type": "markdown",
   "metadata": {},
   "source": [
    "### 2. **Data Vizualization**: obiettivi e metodi"
   ]
  },
  {
   "cell_type": "markdown",
   "metadata": {},
   "source": [
    "Le data visualization sono uno strumento estremamente utile per __(1) esplorare i dati__ e __(2) far emergere nuova conoscenza__. \n",
    "\n",
    "In entrambi i casi, una buona data visualization dovrebbe sempre:\n",
    "\n",
    "1. Far emergere patterns di dati\n",
    "2. Utilizzare solo i dati pertinenti alla ricerca\n",
    "3. Evidenziare il dato rilevante/eccezionale"
   ]
  },
  {
   "cell_type": "markdown",
   "metadata": {},
   "source": [
    "Se da un lato __ARTchives__ risponde alla necessità di un aggregatore per la ricerca in storiografia della storia dell'arte, l'implementazione di tecniche di data viz consente un ulteriore passo avanti nella _comprensione_ e nel _riutilizzo dei dati_.\n",
    "> Obiettivo: stabilire un dialogo tra informazioni provenienti da fonti diverse: superare i _data silos_ per sfruttare un potenziale di conoscenza latente entro . \n",
    "\n"
   ]
  },
  {
   "cell_type": "markdown",
   "metadata": {},
   "source": [
    "Una delle golden rules della DV sono __[le sette fasi della Data Visualization](https://www.oreilly.com/library/view/visualizing-data/9780596514556/ch01.html)__:\n",
    "1. Acquisizione\n",
    "2. Parsing\n",
    "3. Filtraggio\n",
    "4. Estrazione\n",
    "5. Rappresentazione\n",
    "6. Rifinizione\n",
    "7. Interazione\n",
    "\n",
    "\n",
    "__Le sette fasi della data visualization in ARTchives__\n",
    "\n",
    "1. Acquisizione: svolgeremo le nostre analisi a partire dal dataset del progetto ARTchives\n",
    "2. Parsing: i dati sono modificati attraverso la libreria di Python RDFlib che permette di manipolare i dati di un grafo.\n",
    "3. Filtraggio: per rispondere a specifiche domande di ricerca dovremo selezionare porzioni specifiche del dataset.\n",
    "4. Estrazione: attraverso iterazioni sul dataset via Python o con SPARQL queries.\n",
    "5. Rappresentazione: utilizzermo diverse librerie Python che ci permetteranno di rappresentare graficamente i dati per ricavare nuovi pattern e, possibilmente, nuova conoscenza. \n",
    "6. Rifinizione: per semplicità le visualizzazioni saranno già mostrate in fase finale, ma generalmente si procede iterativamente per rifinire sia i dati sottostanti la visualizzazione, che gli aspetti grafici. \n",
    "7. Interazione: esploreremo le visualizzazioni per identificarne il valore aggiunto. \n",
    "\n",
    "\n"
   ]
  },
  {
   "cell_type": "markdown",
   "metadata": {},
   "source": [
    "### 3. Case study: **Quali sono i periodi storico-artistici studiati dagli storici descritti in ARTchives?**"
   ]
  },
  {
   "cell_type": "markdown",
   "metadata": {},
   "source": [
    "Abbiamo già acquisito il dataset per identificare gli storici. \n",
    "<br>\n",
    "A questo punto dobbiamo tenere in considerazione come sono organizzati i nostri dati:\n",
    "- __Archivi/collezioni__ (individuals della classe *wd:Q9388534*)\n",
    "- __Subjects degli archivi__ (*wd:Q9388534* > *wdt:P921* > *?subject*)\n",
    "- Tra i subjects sono presenti i __periodi storico-artistici__, trattati sia da *wdt:P921* tra gli altri, sia da una proprietà dedicata chiamata art:hasSubjectPeriod, che li identifica in maniera esclusiva. \n"
   ]
  },
  {
   "cell_type": "markdown",
   "metadata": {},
   "source": [
    "Andiamo dunque a filtrare i nostri dati attraverso una SPARQL query per ottenere:\n",
    "- I nomi dei periodi storico-artistici \n",
    "- Gli archivi che trattano i periodi."
   ]
  },
  {
   "cell_type": "code",
   "execution_count": 26,
   "metadata": {},
   "outputs": [],
   "source": [
    "query_periods = g.query(\n",
    "    \"\"\"SELECT (SAMPLE(?coll_label) AS ?coll) (SAMPLE(?label) AS ?period_label) \n",
    "    WHERE {?coll <https://w3id.org/artchives/hasSubjectPeriod> ?period ; rdfs:label ?coll_label .\n",
    "    ?period rdfs:label ?label .}\n",
    "    GROUP BY ?period ?coll\n",
    "    ORDER BY ?period_label\"\"\") \n"
   ]
  },
  {
   "cell_type": "markdown",
   "metadata": {},
   "source": [
    "Provate ad interrogare __[l'endpoint di ARTchives](http://artchives.fondazionezeri.unibo.it/sparql)__ con la stessa query per vedere i risultati!"
   ]
  },
  {
   "cell_type": "markdown",
   "metadata": {},
   "source": [
    "Per rendere l'analisi più veloce e mirata, estraiamo i dati di cui abbiamo bisogno in una struttura di dati separata da quella originale. Infatti, fine di utilizzare la gran parte delle librerie python per rappresentare i dati in Jupyter, dobbiamo avere i dati in forma tabulare.\n",
    "<br>\n",
    "Andiamo dunque a creare un _file csv_ nel quale andiamo ad inserire i dati appena estratti dal grafo."
   ]
  },
  {
   "cell_type": "code",
   "execution_count": 27,
   "metadata": {},
   "outputs": [],
   "source": [
    "import csv\n",
    "\n",
    "#apro un file csv in modalità scrittura\n",
    "with open('periods_count.csv', mode='w') as my_file: \n",
    "    #scelgo di dividere i valori con delle virgole e di renderli stringhe\n",
    "    my_writer = csv.writer(my_file, delimiter=',', quotechar='\"', quoting=csv.QUOTE_ALL) \n",
    "    #scrivo i nomi delle colonne\n",
    "    my_writer.writerow(['collection', 'period_label'])\n",
    "    \n",
    "    #accedo ai risultati della query\n",
    "    for res in query_periods:\n",
    "        #compilo il file csv con i risultati\n",
    "        my_writer.writerow([res['coll'], res['period_label'].strip()])\n",
    "               "
   ]
  },
  {
   "cell_type": "markdown",
   "metadata": {},
   "source": [
    "Utilizzeremo  __[Pandas](https://pandas.pydata.org/)__, una libreria Python che permette di manipolare i dati in strutture (in questo caso tabulari, che saranno alla base delle nostre visualizzazioni)"
   ]
  },
  {
   "cell_type": "code",
   "execution_count": 3,
   "metadata": {},
   "outputs": [
    {
     "data": {
      "text/html": [
       "<div>\n",
       "<style scoped>\n",
       "    .dataframe tbody tr th:only-of-type {\n",
       "        vertical-align: middle;\n",
       "    }\n",
       "\n",
       "    .dataframe tbody tr th {\n",
       "        vertical-align: top;\n",
       "    }\n",
       "\n",
       "    .dataframe thead th {\n",
       "        text-align: right;\n",
       "    }\n",
       "</style>\n",
       "<table border=\"1\" class=\"dataframe\">\n",
       "  <thead>\n",
       "    <tr style=\"text-align: right;\">\n",
       "      <th></th>\n",
       "      <th>collection</th>\n",
       "      <th>period_label</th>\n",
       "    </tr>\n",
       "  </thead>\n",
       "  <tbody>\n",
       "    <tr>\n",
       "      <th>0</th>\n",
       "      <td>Fototeca Julian Kliemann</td>\n",
       "      <td>mannerism</td>\n",
       "    </tr>\n",
       "    <tr>\n",
       "      <th>1</th>\n",
       "      <td>Fototeca Zeri</td>\n",
       "      <td>mannerism</td>\n",
       "    </tr>\n",
       "    <tr>\n",
       "      <th>2</th>\n",
       "      <td>Nachlass Fritz Heinemann, Notizen zur venezian...</td>\n",
       "      <td>mannerism</td>\n",
       "    </tr>\n",
       "    <tr>\n",
       "      <th>3</th>\n",
       "      <td>Ellis K. Waterhouse notebooks and research files</td>\n",
       "      <td>mannerism</td>\n",
       "    </tr>\n",
       "    <tr>\n",
       "      <th>4</th>\n",
       "      <td>Nachlass Kurt Badt</td>\n",
       "      <td>mannerism</td>\n",
       "    </tr>\n",
       "  </tbody>\n",
       "</table>\n",
       "</div>"
      ],
      "text/plain": [
       "                                          collection period_label\n",
       "0                           Fototeca Julian Kliemann    mannerism\n",
       "1                                      Fototeca Zeri    mannerism\n",
       "2  Nachlass Fritz Heinemann, Notizen zur venezian...    mannerism\n",
       "3   Ellis K. Waterhouse notebooks and research files    mannerism\n",
       "4                                 Nachlass Kurt Badt    mannerism"
      ]
     },
     "execution_count": 3,
     "metadata": {},
     "output_type": "execute_result"
    }
   ],
   "source": [
    "!pip install pandas\n",
    "\n",
    "import pandas as pd\n",
    "\n",
    "# passo il csv in un dataframe\n",
    "df = pd.read_csv(\"periods_count.csv\")\n",
    "#mostro le prime 5 righe\n",
    "df.head()"
   ]
  },
  {
   "cell_type": "markdown",
   "metadata": {},
   "source": [
    "Una volta impostato il file csv con i nostri dati, possiamo già pensare al modo più utile per visualizzarli, a seconda del nostro fine.\n",
    "\n",
    "Alla nostra domanda di ricerca:\n",
    "> Quali  sono  i  periodi storico-artistici studiati dagli storici descritti in ARTchives? \n",
    "\n",
    "possiamo infatti affidarci a grafiche diverse, a seconda delle caratteristiche dei dati che vogliamo esplorare o enfatizzare.\n",
    "\n"
   ]
  },
  {
   "cell_type": "markdown",
   "metadata": {},
   "source": [
    "Possiamo approcciare la domanda puntando ad esaminare l'aspetto __quantitativo__ e __statistico__ dei dati, mostrando *quali periodi sono stati studiati* in relazione a *quanto spesso ricorrono nelle collezioni di ARTchives*.\n",
    "\n",
    "Utilizziamo la library __[Seaborn](http://seaborn.pydata.org/index.html)__: si tratta una libreria per elaborare grafiche statistiche in Python. Si basa su __[Matplotlib](https://matplotlib.org)__ e si integra strettamente con le strutture dati pandas, come quella che stiamo utilizzando."
   ]
  },
  {
   "cell_type": "code",
   "execution_count": 4,
   "metadata": {},
   "outputs": [
    {
     "data": {
      "image/png": "[encoded data removed]",
      "text/plain": [
       "<Figure size 360x360 with 1 Axes>"
      ]
     },
     "metadata": {},
     "output_type": "display_data"
    }
   ],
   "source": [
    "!pip install seaborn\n",
    "\n",
    "import seaborn as sns\n",
    "import matplotlib.pyplot as plt\n",
    "\n",
    "# Scegliamo il tema di default\n",
    "sns.set_theme()\n",
    "\n",
    "# carichiamo la nostra struttura di dati (df=dataframe)\n",
    "periods = df\n",
    "\n",
    "# funzione che conta quante volte un dato ricorre nel dataset e inserisce il risultato in un barcharte\n",
    "my_plot = sns.catplot(y=\"period_label\", kind=\"count\", data=periods)\n"
   ]
  },
  {
   "cell_type": "markdown",
   "metadata": {},
   "source": [
    "Alla stessa domanda di ricerca possiamo rispondere con una visualizzazione completamente diversa, che va ad evidenziare gli __aspetti relazionali__ dei nostri dati: un network.\n",
    "\n",
    "<br>\n",
    "\n",
    "Per costruire il nostro network utilizziamo la libreria __[Pyvis](https://pyvis.readthedocs.io/en/latest/)__, una libreria Python derivata da VisJS che permette di costruire network interattivi. "
   ]
  },
  {
   "cell_type": "code",
   "execution_count": 17,
   "metadata": {
    "scrolled": false
   },
   "outputs": [
    {
     "data": {
      "text/html": [
       "\n",
       "        <iframe\n",
       "            width=\"100%\"\n",
       "            height=\"750px\"\n",
       "            src=\"people.html\"\n",
       "            frameborder=\"0\"\n",
       "            allowfullscreen\n",
       "        ></iframe>\n",
       "        "
      ],
      "text/plain": [
       "<IPython.lib.display.IFrame at 0x11ef625b0>"
      ]
     },
     "execution_count": 17,
     "metadata": {},
     "output_type": "execute_result"
    }
   ],
   "source": [
    "!pip install pyvis\n",
    "\n",
    "from pyvis import network as net\n",
    "\n",
    "people_net = net.Network(height=\"750px\", width=\"100%\", bgcolor=\"white\", font_color=\"#1cae81\", notebook=\"True\", heading=\"Distribuzione dei periodi storico-artistici\")\n",
    "\n",
    "# set the physics layout of the network\n",
    "people_net.barnes_hut()\n",
    "people_data = pd.read_csv(\"periods_count.csv\")\n",
    "\n",
    "sources = people_data['collection']\n",
    "targets = people_data['period_label']\n",
    "#weights = \"1\"\n",
    "\n",
    "\n",
    "\n",
    "edge_data = zip(sources, targets)\n",
    "\n",
    "collections = set()\n",
    "periods = set()\n",
    "for e in edge_data:\n",
    "    #print(e)\n",
    "    src = e[0]\n",
    "    dst = e[1]\n",
    "    \n",
    "    people_net.add_node(src, src, title=src, color= \"#ff9494\")\n",
    "    people_net.add_node(dst, dst, title=dst, color= \"#1cae81\")\n",
    "    people_net.add_edge(src, dst, color=\"grey\")\n",
    "    \n",
    "        \n",
    "\n",
    "neighbor_map = people_net.get_adj_list()\n",
    "\n",
    "#add neighbor data to node hover data\n",
    "for node in people_net.nodes:\n",
    "    #print(node)\n",
    "    if node[\"color\"] == \"#ff9494\":        \n",
    "        node[\"size\"] = 80 \n",
    "    else:\n",
    "        node[\"size\"] = 80 + (len(neighbor_map[node[\"id\"]])*8)  \n",
    "    node[\"borderWidthSelected\"] = 5\n",
    "    node[\"label\"] = node[\"id\"] \n",
    "    \n",
    "    neighbors = set()\n",
    "    for el in (neighbor_map[node[\"id\"]]):\n",
    "        neighbors.add(el)\n",
    "        if node[\"color\"] == \"#ff9494\":\n",
    "            node[\"title\"] = \"<br>\" + \"<b>\" + node[\"label\"] +  \"</b>\" +  \"<i>\" + \" <br>\" + \"</i>\"+ \"<hr>\" + \"<i>\" +  \"<b>\" + \"Subjects of study\" +  \"</b>\" + \"</i>\" + \"<br>\" + \"<br>\".join(neighbors) + \"<br>\" + \"<hr>\"+ \"<b>\"   \n",
    "        else:\n",
    "            node[\"title\"] = \"<br>\" + \"<b>\" + node[\"label\"] +  \"</b>\" +  \"<i>\" + \" <br>\" + \"</i>\"+ \"<hr>\" + \"<i>\" +  \"<b>\" +\"Related collections\" +   \"</b>\" +\"</i>\" + \"<br>\" + \"<br>\".join(neighbors) + \"<br>\" + \"<hr>\"+ \"<b>\"   \n",
    "            \n",
    "people_net.show(\"people.html\")"
   ]
  },
  {
   "cell_type": "markdown",
   "metadata": {},
   "source": [
    "Dal network vediamo come emergano due principali aspetti:\n",
    "- I periodi storico-artistici piu studiati (al centro del network, con diametro maggiore).\n",
    "- Quali collezioni in particolare trattano dei vari periodi."
   ]
  },
  {
   "cell_type": "markdown",
   "metadata": {},
   "source": [
    "A partire da questa visualizzazione, possiamo anche isolare particolari connessioni di nostro interesse.\n",
    "Possiamo ad esempio individuare solo le collezioni che contengono materiali sul rinascimento, oppure tutti i periodi-storico artistici trattati da un particolare archivio.\n",
    "\n"
   ]
  },
  {
   "cell_type": "markdown",
   "metadata": {},
   "source": [
    "Runnate la cella successiva: vedrete apparirà una casella di testo. Provate ad esplorare il network specificando il nome di una collezione o di un periodo storico-artistico (in inglese!) e premete invio."
   ]
  },
  {
   "cell_type": "code",
   "execution_count": 21,
   "metadata": {},
   "outputs": [
    {
     "ename": "KeyboardInterrupt",
     "evalue": "Interrupted by user",
     "output_type": "error",
     "traceback": [
      "\u001b[0;31m---------------------------------------------------------------------------\u001b[0m",
      "\u001b[0;31mKeyboardInterrupt\u001b[0m                         Traceback (most recent call last)",
      "\u001b[0;32m<ipython-input-21-1fdb64206460>\u001b[0m in \u001b[0;36m<module>\u001b[0;34m\u001b[0m\n\u001b[0;32m----> 1\u001b[0;31m \u001b[0mperiodo_o_collezione\u001b[0m \u001b[0;34m=\u001b[0m \u001b[0minput\u001b[0m\u001b[0;34m(\u001b[0m\u001b[0;34m)\u001b[0m \u001b[0;31m#premi invio!\u001b[0m\u001b[0;34m\u001b[0m\u001b[0;34m\u001b[0m\u001b[0m\n\u001b[0m",
      "\u001b[0;32m~/anaconda3/lib/python3.8/site-packages/ipykernel/kernelbase.py\u001b[0m in \u001b[0;36mraw_input\u001b[0;34m(self, prompt)\u001b[0m\n\u001b[1;32m    858\u001b[0m                 \u001b[0;34m\"raw_input was called, but this frontend does not support input requests.\"\u001b[0m\u001b[0;34m\u001b[0m\u001b[0;34m\u001b[0m\u001b[0m\n\u001b[1;32m    859\u001b[0m             )\n\u001b[0;32m--> 860\u001b[0;31m         return self._input_request(str(prompt),\n\u001b[0m\u001b[1;32m    861\u001b[0m             \u001b[0mself\u001b[0m\u001b[0;34m.\u001b[0m\u001b[0m_parent_ident\u001b[0m\u001b[0;34m,\u001b[0m\u001b[0;34m\u001b[0m\u001b[0;34m\u001b[0m\u001b[0m\n\u001b[1;32m    862\u001b[0m             \u001b[0mself\u001b[0m\u001b[0;34m.\u001b[0m\u001b[0m_parent_header\u001b[0m\u001b[0;34m,\u001b[0m\u001b[0;34m\u001b[0m\u001b[0;34m\u001b[0m\u001b[0m\n",
      "\u001b[0;32m~/anaconda3/lib/python3.8/site-packages/ipykernel/kernelbase.py\u001b[0m in \u001b[0;36m_input_request\u001b[0;34m(self, prompt, ident, parent, password)\u001b[0m\n\u001b[1;32m    902\u001b[0m             \u001b[0;32mexcept\u001b[0m \u001b[0mKeyboardInterrupt\u001b[0m\u001b[0;34m:\u001b[0m\u001b[0;34m\u001b[0m\u001b[0;34m\u001b[0m\u001b[0m\n\u001b[1;32m    903\u001b[0m                 \u001b[0;31m# re-raise KeyboardInterrupt, to truncate traceback\u001b[0m\u001b[0;34m\u001b[0m\u001b[0;34m\u001b[0m\u001b[0;34m\u001b[0m\u001b[0m\n\u001b[0;32m--> 904\u001b[0;31m                 \u001b[0;32mraise\u001b[0m \u001b[0mKeyboardInterrupt\u001b[0m\u001b[0;34m(\u001b[0m\u001b[0;34m\"Interrupted by user\"\u001b[0m\u001b[0;34m)\u001b[0m \u001b[0;32mfrom\u001b[0m \u001b[0;32mNone\u001b[0m\u001b[0;34m\u001b[0m\u001b[0;34m\u001b[0m\u001b[0m\n\u001b[0m\u001b[1;32m    905\u001b[0m             \u001b[0;32mexcept\u001b[0m \u001b[0mException\u001b[0m \u001b[0;32mas\u001b[0m \u001b[0me\u001b[0m\u001b[0;34m:\u001b[0m\u001b[0;34m\u001b[0m\u001b[0;34m\u001b[0m\u001b[0m\n\u001b[1;32m    906\u001b[0m                 \u001b[0mself\u001b[0m\u001b[0;34m.\u001b[0m\u001b[0mlog\u001b[0m\u001b[0;34m.\u001b[0m\u001b[0mwarning\u001b[0m\u001b[0;34m(\u001b[0m\u001b[0;34m\"Invalid Message:\"\u001b[0m\u001b[0;34m,\u001b[0m \u001b[0mexc_info\u001b[0m\u001b[0;34m=\u001b[0m\u001b[0;32mTrue\u001b[0m\u001b[0;34m)\u001b[0m\u001b[0;34m\u001b[0m\u001b[0;34m\u001b[0m\u001b[0m\n",
      "\u001b[0;31mKeyboardInterrupt\u001b[0m: Interrupted by user"
     ]
    }
   ],
   "source": [
    "periodo_o_collezione = input() #premi invio!\n"
   ]
  },
  {
   "cell_type": "code",
   "execution_count": 19,
   "metadata": {
    "scrolled": true
   },
   "outputs": [
    {
     "name": "stdout",
     "output_type": "stream",
     "text": [
      "fototeca zeri\n"
     ]
    },
    {
     "data": {
      "text/html": [
       "\n",
       "        <iframe\n",
       "            width=\"100%\"\n",
       "            height=\"750px\"\n",
       "            src=\"people.html\"\n",
       "            frameborder=\"0\"\n",
       "            allowfullscreen\n",
       "        ></iframe>\n",
       "        "
      ],
      "text/plain": [
       "<IPython.lib.display.IFrame at 0x11ef36ca0>"
      ]
     },
     "execution_count": 19,
     "metadata": {},
     "output_type": "execute_result"
    }
   ],
   "source": [
    "#!pip install pyvis\n",
    "\n",
    "from pyvis import network as net\n",
    "\n",
    "people_net = net.Network(height=\"750px\", width=\"100%\", bgcolor=\"white\", font_color=\"#1cae81\", notebook=\"True\", heading=\".\")\n",
    "\n",
    "# set the physics layout of the network\n",
    "people_net.barnes_hut()\n",
    "people_data = pd.read_csv(\"periods_count.csv\")\n",
    "\n",
    "sources = people_data['collection']\n",
    "targets = people_data['period_label']\n",
    "#weights = \"1\"\n",
    "\n",
    "print(periodo_o_collezione)\n",
    "\n",
    "edge_data = zip(sources, targets)\n",
    "\n",
    "collections = set()\n",
    "periods = set()\n",
    "for e in edge_data:\n",
    "    src = e[0]\n",
    "    dst = e[1]\n",
    "    \n",
    "    if dst.lower() == periodo_o_collezione:\n",
    "        people_net.add_node(src, src, title=src, color= \"#ff9494\")\n",
    "        people_net.add_node(dst, dst, title=dst, color= \"#1cae81\")\n",
    "        people_net.add_edge(src, dst, color=\"grey\")\n",
    "    \n",
    "    elif src.lower() == periodo_o_collezione:\n",
    "        people_net.add_node(src, src, title=src, color= \"#ff9494\")\n",
    "        people_net.add_node(dst, dst, title=dst, color= \"#1cae81\")\n",
    "        people_net.add_edge(src, dst, color=\"grey\")\n",
    "\n",
    "neighbor_map = people_net.get_adj_list()\n",
    "\n",
    "#add neighbor data to node hover data\n",
    "for node in people_net.nodes:\n",
    "    #print(node)\n",
    "    if node[\"color\"] == \"#ff9494\":        \n",
    "        node[\"size\"] = 80 #+ (len(neighbor_map[node[\"id\"]])*10)  \n",
    "    else:\n",
    "        node[\"size\"] = 80 + (len(neighbor_map[node[\"id\"]])*8)  \n",
    "    node[\"borderWidthSelected\"] = 5\n",
    "    node[\"label\"] = node[\"id\"] \n",
    "    \n",
    "    neighbors = set()\n",
    "    for el in (neighbor_map[node[\"id\"]]):\n",
    "        neighbors.add(el)\n",
    "        if node[\"color\"] == \"#ff9494\":\n",
    "            node[\"title\"] = \"<br>\" + \"<b>\" + node[\"label\"] +  \"</b>\" +  \"<i>\" + \" <br>\" + \"</i>\"+ \"<hr>\" + \"<i>\" +  \"<b>\" + \"Subjects of study\" +  \"</b>\" + \"</i>\" + \"<br>\" + \"<br>\".join(neighbors) + \"<br>\" + \"<hr>\"+ \"<b>\"   \n",
    "        else:\n",
    "            node[\"title\"] = \"<br>\" + \"<b>\" + node[\"label\"] +  \"</b>\" +  \"<i>\" + \" <br>\" + \"</i>\"+ \"<hr>\" + \"<i>\" +  \"<b>\" +\"Related collections\" +   \"</b>\" +\"</i>\" + \"<br>\" + \"<br>\".join(neighbors) + \"<br>\" + \"<hr>\"+ \"<b>\"   \n",
    "            \n",
    "people_net.show(\"people.html\")"
   ]
  },
  {
   "cell_type": "markdown",
   "metadata": {},
   "source": [
    "Gli archivi degli storici dell'arte sono ricchi di interconnessioni, di temi, di soggetti di studio e di collaborazioni, motivo per cui sono un ottimo caso d'uso per evidenziare i benefici dei LOD. \n",
    "Il network che abbiamo visto è un ottimo esempio di come una visualizzazione possa fornire degli input per formulare ulteriori domande di ricerca. Attorno ai periodi-storico artistici più studiati, si addensano dei custers, ossia degli insiemi di elementi - le collezioni - che sono accomunati dall'avere più periodi di studio in comune. Ma questo elemento può bastare per constatare l'effettiva esistenza di una interconnessione fra queste collezioni?"
   ]
  },
  {
   "cell_type": "markdown",
   "metadata": {},
   "source": [
    "### 4. Case study: **Quali sono gli artisti e le personalità studiate dagli storici?**"
   ]
  },
  {
   "cell_type": "markdown",
   "metadata": {},
   "source": [
    "Similmente ai periodi storico-artistici, anche gli artisti e le personalità studiate dagli storici dell'arte rientrano nei subjects degli archivi. Sono identificati sia genericamente, attraverso la proprietà _P921_ che in maniera specifica attraverso da properità ad hoc _hasSubjectArtist_\n",
    "\n",
    "<br>\n",
    "Saltiamo, in questo caso, per semplicità, l'estrazione dei dati e analizziamo direttamente i risultati:\n"
   ]
  },
  {
   "cell_type": "code",
   "execution_count": 42,
   "metadata": {},
   "outputs": [
    {
     "data": {
      "text/html": [
       "<div>\n",
       "<style scoped>\n",
       "    .dataframe tbody tr th:only-of-type {\n",
       "        vertical-align: middle;\n",
       "    }\n",
       "\n",
       "    .dataframe tbody tr th {\n",
       "        vertical-align: top;\n",
       "    }\n",
       "\n",
       "    .dataframe thead th {\n",
       "        text-align: right;\n",
       "    }\n",
       "</style>\n",
       "<table border=\"1\" class=\"dataframe\">\n",
       "  <thead>\n",
       "    <tr style=\"text-align: right;\">\n",
       "      <th></th>\n",
       "      <th>subj1</th>\n",
       "      <th>subj2</th>\n",
       "      <th>weight</th>\n",
       "    </tr>\n",
       "  </thead>\n",
       "  <tbody>\n",
       "    <tr>\n",
       "      <th>0</th>\n",
       "      <td>Caravaggio</td>\n",
       "      <td>Luigi Salerno</td>\n",
       "      <td>1</td>\n",
       "    </tr>\n",
       "    <tr>\n",
       "      <th>1</th>\n",
       "      <td>Federico Zeri</td>\n",
       "      <td>Luigi Salerno</td>\n",
       "      <td>1</td>\n",
       "    </tr>\n",
       "    <tr>\n",
       "      <th>2</th>\n",
       "      <td>Giulio Mancini</td>\n",
       "      <td>Luigi Salerno</td>\n",
       "      <td>1</td>\n",
       "    </tr>\n",
       "    <tr>\n",
       "      <th>3</th>\n",
       "      <td>Giovanni Lanfranco</td>\n",
       "      <td>Luigi Salerno</td>\n",
       "      <td>1</td>\n",
       "    </tr>\n",
       "    <tr>\n",
       "      <th>4</th>\n",
       "      <td>Filippo Napoletano</td>\n",
       "      <td>Luigi Salerno</td>\n",
       "      <td>1</td>\n",
       "    </tr>\n",
       "  </tbody>\n",
       "</table>\n",
       "</div>"
      ],
      "text/plain": [
       "                subj1          subj2  weight\n",
       "0          Caravaggio  Luigi Salerno       1\n",
       "1       Federico Zeri  Luigi Salerno       1\n",
       "2      Giulio Mancini  Luigi Salerno       1\n",
       "3  Giovanni Lanfranco  Luigi Salerno       1\n",
       "4  Filippo Napoletano  Luigi Salerno       1"
      ]
     },
     "execution_count": 42,
     "metadata": {},
     "output_type": "execute_result"
    }
   ],
   "source": [
    "df = pd.read_csv(\"artists.csv\")\n",
    "# print the first 5 rows\n",
    "df.head()"
   ]
  },
  {
   "cell_type": "markdown",
   "metadata": {},
   "source": [
    "Aggiungiamo al network un grado di complessità: vedete un numero sotto la colonna \"weight\", che rappresenta il peso della relazione fra gli elementi della colonna subj1 e della colonna subj2, ossia l'importanza della loro relazione nel network. In questo modo, il network sarà graficamente bilanciato sulla base del peso delle relazioni.\n",
    "\n",
    "Come abbiamo aggiunto un peso alle relazioni?\n",
    "- Nella relazione fra storici dell'arte, più sono gli artisti studiati in comune, più la relazione è \"pesante\".\n",
    "- Fra storico dell'arte e artista, la relazione è più pesante se, oltre all'artista, lo storico è specializzato nel periodo storico-artistico in cui si colloca l'artista.\n"
   ]
  },
  {
   "cell_type": "code",
   "execution_count": 20,
   "metadata": {
    "scrolled": true
   },
   "outputs": [
    {
     "data": {
      "text/html": [
       "\n",
       "        <iframe\n",
       "            width=\"100%\"\n",
       "            height=\"750px\"\n",
       "            src=\"people.html\"\n",
       "            frameborder=\"0\"\n",
       "            allowfullscreen\n",
       "        ></iframe>\n",
       "        "
      ],
      "text/plain": [
       "<IPython.lib.display.IFrame at 0x11ef7bfd0>"
      ]
     },
     "execution_count": 20,
     "metadata": {},
     "output_type": "execute_result"
    }
   ],
   "source": [
    "people_net = net.Network(height=\"750px\", width=\"100%\", bgcolor=\"white\", font_color=\"#1cae81\", notebook=\"True\", heading=\"Distribuzione delle relazioni degli storici dell'arte con i loro oggetti di studio\")\n",
    "\n",
    "# set the physics layout of the network\n",
    "people_net.barnes_hut()\n",
    "people_data = pd.read_csv(\"artists.csv\")\n",
    "\n",
    "sources = people_data['subj1']\n",
    "targets = people_data['subj2']\n",
    "weights = people_data['weight']\n",
    "\n",
    "\n",
    "edge_data = zip(sources, targets, weights)\n",
    "\n",
    "for e in edge_data:\n",
    "    #print(e)\n",
    "    src = e[0]\n",
    "    dst = e[1]\n",
    "    w = e[2]\n",
    "\n",
    "\n",
    "    people_net.add_node(src, src, title=src, color= \"#1cae81\")\n",
    "    people_net.add_node(dst, dst, title=dst, color= \"#1cae81\")\n",
    "    if w == 1:\n",
    "        people_net.add_edge(src, dst, value=w, color=\"grey\")\n",
    "    elif w == 2:\n",
    "        people_net.add_edge(src, dst, value=w, color=\"#F63489\")\n",
    "    elif w == 3:\n",
    "        people_net.add_edge(src, dst, value=w, color=\"black\")\n",
    "    \n",
    "        \n",
    "\n",
    "neighbor_map = people_net.get_adj_list()\n",
    "\n",
    "# add neighbor data to node hover data\n",
    "for node in people_net.nodes:\n",
    "    #print(node)\n",
    "    \n",
    "    node[\"size\"] = 80 + (len(neighbor_map[node[\"id\"]])*10)   \n",
    "    node[\"borderWidthSelected\"] = 5\n",
    "    node[\"label\"] = node[\"id\"] \n",
    "    historians = set()\n",
    "    artists = set()\n",
    "    for el in (neighbor_map[node[\"id\"]]):\n",
    "        if el in arthistorians:\n",
    "            historians.add(el)\n",
    "        else: \n",
    "            artists.add(el)\n",
    "    if node[\"label\"] in arthistorians:\n",
    "        node[\"color\"] = \"#23f5ad\"\n",
    "        uripos = arthistorians.index(node[\"label\"])+1\n",
    "        uri = arthistorians[uripos]\n",
    "        #print(node[\"label\"], uri)\n",
    "        if len(historians) > 0:\n",
    "            node[\"title\"] = \"<br>\" + \"<b>\" + node[\"label\"] +  \"</b>\" +  \"<i>\" + \"  relations:<br>\" + \"</i>\"+ \"<hr>\" + \"<b>\" + \"Subjects of study\" + \"</b>\" + \"<br>\" + \"<br>\".join(artists) + \"<br>\" + \"<hr>\"+ \"<b>\" + \"Art historians\" + \"</b>\" + \"<br>\" + \"<br>\".join(historians)  \n",
    "        else:\n",
    "            node[\"title\"] = \"<br>\" + \"<b>\" + node[\"label\"] +   \"</b>\" +  \"<i>\" + \"  relations:<br>\" + \"</i>\"+ \"<hr>\" + \"<b>\" + \"Subjects of study\" + \"</b>\" + \"<br>\" + \"<br>\".join(artists) + node[\"label\"] + \"</a>\" \n",
    "    else: \n",
    "        node[\"title\"] = \"<br>\" + \"<b>\" + node[\"label\"] + \"</b>\" +  \"<i>\" + \"  relations:<br>\" + \"</i>\"+ \"<hr>\" + \"<b>\" + \"Art historians\" + \"</b>\" + \"<br>\" + \"<br>\".join(historians) + \"<br>\" \n",
    "   \n",
    "people_net.show(\"people.html\")"
   ]
  },
  {
   "cell_type": "markdown",
   "metadata": {},
   "source": [
    "- Nel primo cluster troviamo _Ernst Steinmann_, _Konrnèl Fabriczy_, _John Pope-Hennessy_ ed _Everett Fahy_, che gravitano on particolare attorno a __Michelangelo__ e __Botticelli__.\n",
    "- Nel secondo cluster (al centro) _Richard Krautheimer_, _Federico Zeri_, _Stefano Tumidei_ e _Wolfgang Lotz_ accomunati dallo studio di __Gian Lorenzo Bernini__. \n",
    "- Nel terzo _Fritz Heinemann_, _Gustav Ludwig_, _Leo Steinberg_ e _Luisa Vertova_, a partire dallo studio di __Vittore Carpaccio, Titian__ e __Giovanni Bellini__.\n",
    "\n",
    "- Sempre importante diversificare fra le relazioni certe (storico dell'arte-artista) e le relazioni supposte (fra storici dell'arte)"
   ]
  },
  {
   "cell_type": "markdown",
   "metadata": {},
   "source": [
    "### 5. Case study: Quali sono i luoghi di studio ed attività degli storici?"
   ]
  },
  {
   "cell_type": "markdown",
   "metadata": {},
   "source": [
    "Se con i network ci siamo concentrati su aspetti relazionali, ora andiamo ad esplorare la __distribuzione spaziale__ dei nostri dati.\n",
    "\n",
    "Fino ad ora il nostro focus è rimasto sulle collezioni, ora spostiamo la nostra attenzione sui __percorsi di studio e formazione__ dei singoli storici, per individuarne le traiettorie di formazione."
   ]
  },
  {
   "cell_type": "markdown",
   "metadata": {},
   "source": [
    "Il nostro punto di partenza (dataset di ARTchives):\n",
    "- Su ARTchives abbiamo indicizzati alcuni luoghi, senza indicazione di coordinate (elemento chiave per la rappresentazione geospaziale).\n",
    "    \n",
    "Di cosa abbiamo bisogno:\n",
    "- Coordinate\n",
    "- Altri eventuali collegamenti con luoghi di formazione ed attività, ricavabili da altri dataset.\n",
    "\n",
    "Case study rappresentativo per l'integrazione di dati da Linked Open Dataset diversi: ARTchives + Wikidata. \n",
    "\n",
    "Cosa recuperariamo da Wikdiata:\n",
    "- altri eventuali luoghi associati agli storici dell'arte\n",
    " - coordinate di tutti i luoghi individuati (sia quelli ricavati a Wikidata, che quelli già presenti in artchives)"
   ]
  },
  {
   "cell_type": "markdown",
   "metadata": {},
   "source": [
    "Partimo dall'individuazione dei luoghi correlati agli storici dell'arte presenti su Wikidata.\n",
    "<br>\n",
    "__[SPARQLWrapper](https://pypi.org/project/SPARQLWrapper/)__ aiuta a gestire query su endpoint esterni e ad esporare i risultati nel formato desiderato (JSON, nel nostro caso."
   ]
  },
  {
   "cell_type": "code",
   "execution_count": 24,
   "metadata": {
    "scrolled": false
   },
   "outputs": [
    {
     "name": "stdout",
     "output_type": "stream",
     "text": [
      "Requirement already satisfied: SPARQLWrapper in /Users/luciagiagnolini/anaconda3/lib/python3.8/site-packages (1.8.5)\n",
      "Requirement already satisfied: rdflib>=4.0 in /Users/luciagiagnolini/anaconda3/lib/python3.8/site-packages (from SPARQLWrapper) (5.0.0)\n",
      "Requirement already satisfied: isodate in /Users/luciagiagnolini/anaconda3/lib/python3.8/site-packages (from rdflib>=4.0->SPARQLWrapper) (0.6.0)\n",
      "Requirement already satisfied: pyparsing in /Users/luciagiagnolini/anaconda3/lib/python3.8/site-packages (from rdflib>=4.0->SPARQLWrapper) (2.4.7)\n",
      "Requirement already satisfied: six in /Users/luciagiagnolini/anaconda3/lib/python3.8/site-packages (from rdflib>=4.0->SPARQLWrapper) (1.15.0)\n",
      "http://www.wikidata.org/entity/Q457739\n",
      "work: http://www.wikidata.org/entity/Q49117 University of Pennsylvania\n",
      "http://www.wikidata.org/entity/Q457739\n",
      "education: http://www.wikidata.org/entity/Q49210 New York University\n",
      "http://www.wikidata.org/entity/Q457739\n",
      "work: http://www.wikidata.org/entity/Q49117 University of Pennsylvania\n",
      "http://www.wikidata.org/entity/Q457739\n",
      "education: http://www.wikidata.org/entity/Q49210 New York University\n",
      "http://www.wikidata.org/entity/Q3051533\n",
      "work: http://www.wikidata.org/entity/Q230899 University of Manchester\n",
      "http://www.wikidata.org/entity/Q2824734\n",
      "work: http://www.wikidata.org/entity/Q209344 Sapienza University of Rome\n",
      "http://www.wikidata.org/entity/Q3051533\n",
      "work: http://www.wikidata.org/entity/Q230899 University of Manchester\n",
      "http://www.wikidata.org/entity/Q3057287\n",
      "work: http://www.wikidata.org/entity/Q154804 Leipzig University\n",
      "http://www.wikidata.org/entity/Q3057287\n",
      "education: http://www.wikidata.org/entity/Q154804 Leipzig University\n",
      "http://www.wikidata.org/entity/Q3057287\n",
      "work: http://www.wikidata.org/entity/Q154804 Leipzig University\n",
      "http://www.wikidata.org/entity/Q3057287\n",
      "education: http://www.wikidata.org/entity/Q154804 Leipzig University\n",
      "http://www.wikidata.org/entity/Q3057287\n",
      "work: http://www.wikidata.org/entity/Q154804 Leipzig University\n",
      "http://www.wikidata.org/entity/Q3057287\n",
      "education: http://www.wikidata.org/entity/Q154804 Leipzig University\n",
      "http://www.wikidata.org/entity/Q3057287\n",
      "work: http://www.wikidata.org/entity/Q2324618 Staatliches Museum Schwerin\n",
      "http://www.wikidata.org/entity/Q90407\n",
      "work: http://www.wikidata.org/entity/Q49210 New York University\n",
      "http://www.wikidata.org/entity/Q537874\n",
      "work: http://www.wikidata.org/entity/Q34433 University of Oxford\n",
      "http://www.wikidata.org/entity/Q457739\n",
      "work: http://www.wikidata.org/entity/Q49117 University of Pennsylvania\n",
      "http://www.wikidata.org/entity/Q457739\n",
      "education: http://www.wikidata.org/entity/Q49210 New York University\n",
      "http://www.wikidata.org/entity/Q3051533\n",
      "work: http://www.wikidata.org/entity/Q81162 Magdalen College\n",
      "http://www.wikidata.org/entity/Q3051533\n",
      "education: http://www.wikidata.org/entity/Q1376987 University of Oxford New College\n",
      "http://www.wikidata.org/entity/Q457739\n",
      "work: http://www.wikidata.org/entity/Q13371 Harvard University\n",
      "http://www.wikidata.org/entity/Q457739\n",
      "education: http://www.wikidata.org/entity/Q49210 New York University\n",
      "http://www.wikidata.org/entity/Q457739\n",
      "work: http://www.wikidata.org/entity/Q13371 Harvard University\n",
      "http://www.wikidata.org/entity/Q457739\n",
      "education: http://www.wikidata.org/entity/Q49210 New York University\n",
      "http://www.wikidata.org/entity/Q90407\n",
      "work: http://www.wikidata.org/entity/Q155354 University of Marburg\n",
      "http://www.wikidata.org/entity/Q90407\n",
      "education: http://www.wikidata.org/entity/Q32120 University of Halle-Wittenberg\n",
      "http://www.wikidata.org/entity/Q3057287\n",
      "work: http://www.wikidata.org/entity/Q154804 Leipzig University\n",
      "http://www.wikidata.org/entity/Q3057287\n",
      "education: http://www.wikidata.org/entity/Q154804 Leipzig University\n",
      "http://www.wikidata.org/entity/Q3057287\n",
      "work: http://www.wikidata.org/entity/Q154804 Leipzig University\n",
      "http://www.wikidata.org/entity/Q3057287\n",
      "education: http://www.wikidata.org/entity/Q154804 Leipzig University\n",
      "http://www.wikidata.org/entity/Q3057287\n",
      "work: http://www.wikidata.org/entity/Q154804 Leipzig University\n",
      "http://www.wikidata.org/entity/Q3057287\n",
      "education: http://www.wikidata.org/entity/Q154804 Leipzig University\n",
      "http://www.wikidata.org/entity/Q3051533\n",
      "work: http://www.wikidata.org/entity/Q223429 University of Birmingham\n",
      "http://www.wikidata.org/entity/Q457739\n",
      "work: http://www.wikidata.org/entity/Q13371 Harvard University\n",
      "http://www.wikidata.org/entity/Q457739\n",
      "work: http://www.wikidata.org/entity/Q13371 Harvard University\n",
      "http://www.wikidata.org/entity/Q90407\n",
      "work: http://www.wikidata.org/entity/Q49210 New York University\n",
      "http://www.wikidata.org/entity/Q90407\n",
      "work: http://www.wikidata.org/entity/Q49210 New York University\n",
      "http://www.wikidata.org/entity/Q90407\n",
      "work: http://www.wikidata.org/entity/Q2093794 Vassar College\n",
      "http://www.wikidata.org/entity/Q90407\n",
      "education: http://www.wikidata.org/entity/Q2093794 Vassar College\n",
      "http://www.wikidata.org/entity/Q457739\n",
      "work: http://www.wikidata.org/entity/Q49117 University of Pennsylvania\n",
      "http://www.wikidata.org/entity/Q457739\n",
      "education: http://www.wikidata.org/entity/Q49210 New York University\n",
      "http://www.wikidata.org/entity/Q457739\n",
      "work: http://www.wikidata.org/entity/Q49117 University of Pennsylvania\n",
      "http://www.wikidata.org/entity/Q457739\n",
      "education: http://www.wikidata.org/entity/Q49210 New York University\n",
      "http://www.wikidata.org/entity/Q90407\n",
      "work: http://www.wikidata.org/entity/Q1360303 University of Kentucky\n",
      "http://www.wikidata.org/entity/Q90407\n",
      "education: http://www.wikidata.org/entity/Q152087 Humboldt University of Berlin\n",
      "http://www.wikidata.org/entity/Q457739\n",
      "work: http://www.wikidata.org/entity/Q49117 University of Pennsylvania\n",
      "http://www.wikidata.org/entity/Q457739\n",
      "education: http://www.wikidata.org/entity/Q49210 New York University\n",
      "http://www.wikidata.org/entity/Q1712683\n",
      "work: http://www.wikidata.org/entity/Q49210 New York University\n",
      "http://www.wikidata.org/entity/Q88907\n",
      "work: http://www.wikidata.org/entity/Q13371 Harvard University\n",
      "http://www.wikidata.org/entity/Q60185\n",
      "education: http://www.wikidata.org/entity/Q152171 University of Bonn\n",
      "http://www.wikidata.org/entity/Q3051533\n",
      "work: http://www.wikidata.org/entity/Q81162 Magdalen College\n",
      "http://www.wikidata.org/entity/Q3051533\n",
      "education: http://www.wikidata.org/entity/Q1376987 New College\n",
      "http://www.wikidata.org/entity/Q19997512\n",
      "education: http://www.wikidata.org/entity/Q13371 Harvard University\n",
      "http://www.wikidata.org/entity/Q90407\n",
      "work: http://www.wikidata.org/entity/Q1360303 University of Kentucky\n",
      "http://www.wikidata.org/entity/Q457739\n",
      "work: http://www.wikidata.org/entity/Q49117 University of Pennsylvania\n",
      "http://www.wikidata.org/entity/Q457739\n",
      "education: http://www.wikidata.org/entity/Q49210 New York University\n",
      "http://www.wikidata.org/entity/Q457739\n",
      "work: http://www.wikidata.org/entity/Q49117 University of Pennsylvania\n",
      "http://www.wikidata.org/entity/Q457739\n",
      "education: http://www.wikidata.org/entity/Q49210 New York University\n",
      "http://www.wikidata.org/entity/Q1712683\n",
      "work: http://www.wikidata.org/entity/Q49088 Columbia University\n",
      "http://www.wikidata.org/entity/Q1712683\n",
      "work: http://www.wikidata.org/entity/Q49210 New York University\n",
      "http://www.wikidata.org/entity/Q1712683\n",
      "work: http://www.wikidata.org/entity/Q49210 New York University\n",
      "http://www.wikidata.org/entity/Q457739\n",
      "work: http://www.wikidata.org/entity/Q1446181 Hunter College\n",
      "http://www.wikidata.org/entity/Q90407\n",
      "work: http://www.wikidata.org/entity/Q155354 University of Marburg\n",
      "http://www.wikidata.org/entity/Q90407\n",
      "education: http://www.wikidata.org/entity/Q155354 University of Marburg\n",
      "http://www.wikidata.org/entity/Q3057287\n",
      "work: http://www.wikidata.org/entity/Q154804 Leipzig University\n",
      "http://www.wikidata.org/entity/Q3057287\n",
      "education: http://www.wikidata.org/entity/Q154804 Leipzig University\n",
      "http://www.wikidata.org/entity/Q3057287\n",
      "work: http://www.wikidata.org/entity/Q154804 Leipzig University\n",
      "http://www.wikidata.org/entity/Q3057287\n",
      "education: http://www.wikidata.org/entity/Q154804 Leipzig University\n",
      "http://www.wikidata.org/entity/Q3057287\n",
      "work: http://www.wikidata.org/entity/Q154804 Leipzig University\n",
      "http://www.wikidata.org/entity/Q3057287\n",
      "education: http://www.wikidata.org/entity/Q154804 Leipzig University\n",
      "http://www.wikidata.org/entity/Q88907\n",
      "work: http://www.wikidata.org/entity/Q13371 Harvard University\n",
      "http://www.wikidata.org/entity/Q88907\n",
      "work: http://www.wikidata.org/entity/Q13371 Harvard University\n",
      "http://www.wikidata.org/entity/Q1296486\n",
      "work: http://www.wikidata.org/entity/Q2093794 Vassar College\n",
      "http://www.wikidata.org/entity/Q90407\n",
      "work: http://www.wikidata.org/entity/Q49210 New York University\n",
      "http://www.wikidata.org/entity/Q90407\n",
      "education: http://www.wikidata.org/entity/Q2093794 Vassar College\n",
      "http://www.wikidata.org/entity/Q3057287\n",
      "work: http://www.wikidata.org/entity/Q339759 Bibliotheca Hertziana – Max Planck Institute of Art History\n",
      "http://www.wikidata.org/entity/Q1715096\n",
      "work: http://www.wikidata.org/entity/Q131252 University of Chicago\n",
      "http://www.wikidata.org/entity/Q1715096\n",
      "work: http://www.wikidata.org/entity/Q131252 University of Chicago\n",
      "http://www.wikidata.org/entity/Q1715096\n",
      "work: http://www.wikidata.org/entity/Q131252 University of Chicago\n",
      "http://www.wikidata.org/entity/Q19997512\n",
      "education: http://www.wikidata.org/entity/Q13371 Harvard University\n",
      "http://www.wikidata.org/entity/Q19997512\n",
      "education: http://www.wikidata.org/entity/Q13371 Harvard University\n",
      "http://www.wikidata.org/entity/Q457739\n",
      "work: http://www.wikidata.org/entity/Q13371 Harvard University\n",
      "http://www.wikidata.org/entity/Q457739\n",
      "education: http://www.wikidata.org/entity/Q49210 New York University\n",
      "http://www.wikidata.org/entity/Q457739\n",
      "work: http://www.wikidata.org/entity/Q13371 Harvard University\n",
      "http://www.wikidata.org/entity/Q457739\n",
      "education: http://www.wikidata.org/entity/Q49210 New York University\n",
      "http://www.wikidata.org/entity/Q1712683\n",
      "work: http://www.wikidata.org/entity/Q49088 Columbia University\n",
      "http://www.wikidata.org/entity/Q1712683\n",
      "work: http://www.wikidata.org/entity/Q49088 Columbia University\n",
      "http://www.wikidata.org/entity/Q90407\n",
      "work: http://www.wikidata.org/entity/Q1360303 University of Kentucky\n",
      "http://www.wikidata.org/entity/Q90407\n",
      "education: http://www.wikidata.org/entity/Q155354 University of Marburg\n",
      "http://www.wikidata.org/entity/Q457739\n",
      "work: http://www.wikidata.org/entity/Q49117 University of Pennsylvania\n",
      "http://www.wikidata.org/entity/Q457739\n",
      "education: http://www.wikidata.org/entity/Q49210 New York University\n",
      "http://www.wikidata.org/entity/Q1712683\n",
      "work: http://www.wikidata.org/entity/Q167733 Barnard College\n",
      "http://www.wikidata.org/entity/Q3051533\n",
      "work: http://www.wikidata.org/entity/Q223429 University of Birmingham\n",
      "http://www.wikidata.org/entity/Q457739\n",
      "work: http://www.wikidata.org/entity/Q13371 Harvard University\n",
      "http://www.wikidata.org/entity/Q90407\n",
      "work: http://www.wikidata.org/entity/Q49210 New York University\n",
      "http://www.wikidata.org/entity/Q90407\n",
      "education: http://www.wikidata.org/entity/Q2093794 Vassar College\n",
      "http://www.wikidata.org/entity/Q457739\n",
      "work: http://www.wikidata.org/entity/Q13371 Harvard University\n",
      "http://www.wikidata.org/entity/Q457739\n",
      "education: http://www.wikidata.org/entity/Q49210 New York University\n",
      "http://www.wikidata.org/entity/Q457739\n",
      "work: http://www.wikidata.org/entity/Q13371 Harvard University\n",
      "http://www.wikidata.org/entity/Q457739\n",
      "education: http://www.wikidata.org/entity/Q49210 New York University\n",
      "http://www.wikidata.org/entity/Q537874\n",
      "work: http://www.wikidata.org/entity/Q34433 University of Oxford\n",
      "http://www.wikidata.org/entity/Q537874\n",
      "work: http://www.wikidata.org/entity/Q34433 University of Oxford\n"
     ]
    },
    {
     "name": "stdout",
     "output_type": "stream",
     "text": [
      "http://www.wikidata.org/entity/Q457739\n",
      "work: http://www.wikidata.org/entity/Q13371 Harvard University\n",
      "http://www.wikidata.org/entity/Q457739\n",
      "education: http://www.wikidata.org/entity/Q49210 New York University\n",
      "http://www.wikidata.org/entity/Q457739\n",
      "work: http://www.wikidata.org/entity/Q13371 Harvard University\n",
      "http://www.wikidata.org/entity/Q457739\n",
      "education: http://www.wikidata.org/entity/Q49210 New York University\n",
      "http://www.wikidata.org/entity/Q457739\n",
      "work: http://www.wikidata.org/entity/Q13371 Harvard University\n",
      "http://www.wikidata.org/entity/Q457739\n",
      "education: http://www.wikidata.org/entity/Q49210 New York University\n",
      "http://www.wikidata.org/entity/Q61913691\n",
      "work: http://www.wikidata.org/entity/Q3558578 Harvard University Center for Italian Renaissance Studies\n",
      "http://www.wikidata.org/entity/Q1089074\n",
      "education: http://www.wikidata.org/entity/Q209344 Sapienza University of Rome\n",
      "http://www.wikidata.org/entity/Q90407\n",
      "work: http://www.wikidata.org/entity/Q49210 New York University\n",
      "http://www.wikidata.org/entity/Q90407\n",
      "education: http://www.wikidata.org/entity/Q2093794 Vassar College\n",
      "http://www.wikidata.org/entity/Q457739\n",
      "work: http://www.wikidata.org/entity/Q49117 University of Pennsylvania\n",
      "http://www.wikidata.org/entity/Q457739\n",
      "work: http://www.wikidata.org/entity/Q49117 University of Pennsylvania\n",
      "http://www.wikidata.org/entity/Q457739\n",
      "work: http://www.wikidata.org/entity/Q49117 University of Pennsylvania\n"
     ]
    }
   ],
   "source": [
    "!pip install SPARQLWrapper\n",
    "from SPARQLWrapper import SPARQLWrapper, JSON\n",
    "import ssl\n",
    "import os.path\n",
    "import json\n",
    "\n",
    "ssl._create_default_https_context = ssl._create_unverified_context\n",
    "\n",
    "# get the endpoint API\n",
    "wikidata_endpoint = \"https://query.wikidata.org/bigdata/namespace/wdq/sparql\"\n",
    "\n",
    "if os.path.isfile(\"query1.json\"):\n",
    "    f = open('query1.json')\n",
    "    results = json.load(f)\n",
    "\n",
    "    # prepare the values to be queried\n",
    "else:\n",
    "    historians = ' '.join(arthistorians_uri) # <uri1> <uri2> <uri3> ... <uriN>\n",
    "    # prepare the query: for each historian in ARTchives check in wikidata if there are work or education places.\n",
    "    formationplace_query = \"\"\" \n",
    "    PREFIX wdt: <http://www.wikidata.org/prop/direct/>\n",
    "    SELECT DISTINCT ?historian ?workplace ?workplace_label ?coordinates1 ?eduplace ?eduplace_label ?coordinates2\n",
    "    WHERE {\n",
    "            VALUES ?historian {\"\"\"+historians+\"\"\"} . \n",
    "            optional {?historian wdt:P108 ?workplace . \n",
    "            ?workplace rdfs:label ?workplace_label .\n",
    "            FILTER (langMatches(lang(?workplace_label), \"EN\")) \n",
    "            ?workplace wdt:P625 ?coordinates1; wdt:P31 ?type . \n",
    "            ?type rdfs:label ?type_label . \n",
    "            FILTER (langMatches(lang(?type_label), \"EN\"))}\n",
    "            optional {?historian wdt:P69 ?eduplace . \n",
    "            ?eduplace rdfs:label ?eduplace_label .\n",
    "            FILTER (langMatches(lang(?eduplace_label), \"EN\")) \n",
    "            ?eduplace wdt:P625 ?coordinates2; wdt:P31 ?type . \n",
    "            ?type rdfs:label ?type_label . \n",
    "            FILTER (langMatches(lang(?type_label), \"EN\")) }\n",
    "            } \n",
    "    GROUP BY ?historian ?workplace ?workplace_label ?coordinates1 ?eduplace ?eduplace_label ?coordinates2 \n",
    "    \"\"\"\n",
    "    \n",
    "        # set the endpoint \n",
    "    sparql_wd = SPARQLWrapper(wikidata_endpoint)\n",
    "        # set the query\n",
    "    sparql_wd.setQuery(formationplace_query)\n",
    "        # set the returned format\n",
    "    sparql_wd.setReturnFormat(JSON)\n",
    "        # get the results\n",
    "    results = sparql_wd.query().convert()\n",
    "    \n",
    "    with open('query1.json', 'w') as f:\n",
    "        json.dump(results, f)\n",
    "\n",
    "\n",
    "\n",
    "\n",
    "        # manipulate the result\n",
    "for result in results[\"results\"][\"bindings\"]:\n",
    "    historian_uri = result[\"historian\"][\"value\"]\n",
    "    if \"workplace\" in result: \n",
    "        workplace = result[\"workplace\"][\"value\"]\n",
    "        if \"workplace_label\" in result and \"coordinates1\" in result: \n",
    "            workplace_label = result[\"workplace_label\"][\"value\"]\n",
    "            work_coord = result[\"coordinates1\"][\"value\"][6:-1].split(\" \")\n",
    "            print(historian_uri)\n",
    "            print(\"work:\", workplace, workplace_label)\n",
    "\n",
    "                    # only if uri, label and coords are found we add them to the graph\n",
    "            g.add(( URIRef(historian_uri) , URIRef(wdt.P108) , URIRef(workplace) ))\n",
    "            g.add(( URIRef(workplace) , RDFS.label , Literal(workplace_label) ))\n",
    "            g.add(( URIRef(workplace) , URIRef(wdt.P625) , Literal(work_coord) ))\n",
    "            \n",
    "                    \n",
    "            \n",
    "    if \"eduplace\" in result: \n",
    "        eduplace = result[\"eduplace\"][\"value\"]\n",
    "        if \"eduplace_label\" in result and \"coordinates2\" in result: \n",
    "            eduplace_label = result[\"eduplace_label\"][\"value\"]\n",
    "            eduplace_coord = result[\"coordinates2\"][\"value\"][6:-1].split(\" \")\n",
    "            print(historian_uri)\n",
    "            print(\"education:\", eduplace, eduplace_label)\n",
    "                    # only if both uri and label are found we add them to the graph\n",
    "            g.add(( URIRef(historian_uri) , URIRef(wdt.P69) , URIRef(eduplace) ))\n",
    "            g.add(( URIRef(eduplace) , RDFS.label , Literal(eduplace_label) ))\n",
    "            g.add(( URIRef(eduplace) , URIRef(wdt.P625) , Literal(eduplace_coord) ))\n",
    "            "
   ]
  },
  {
   "cell_type": "markdown",
   "metadata": {},
   "source": [
    "Esporto i dati nel grafo aggiornato:"
   ]
  },
  {
   "cell_type": "code",
   "execution_count": 15,
   "metadata": {},
   "outputs": [],
   "source": [
    "g.serialize(destination='artchives_luoghi.nq', format='nquads') #Desktop/dhdk_epds/resources/\n",
    "result = g.parse(\"artchives_luoghi.nq\", format='nquads')"
   ]
  },
  {
   "cell_type": "markdown",
   "metadata": {},
   "source": [
    "Ora verifichiamo le informazioni che abbiamo appena aggiunto al grafo e le inseriamo in un dizionario che sarà alla base della nostra ultima visualizzazione."
   ]
  },
  {
   "cell_type": "code",
   "execution_count": 47,
   "metadata": {},
   "outputs": [
    {
     "name": "stdout",
     "output_type": "stream",
     "text": [
      "('<http://www.wikidata.org/entity/Q90407>', 'Richard Krautheimer') {('University of Halle-Wittenberg', '<http://www.wikidata.org/entity/Q32120>', 51.486, 11.968), ('Humboldt University of Berlin', '<http://www.wikidata.org/entity/Q152087>', 52.518, 13.393), ('University of Marburg', '<http://www.wikidata.org/entity/Q155354>', 50.81, 8.7736), ('Vassar College', '<http://www.wikidata.org/entity/Q2093794>', 41.686, -73.89)}\n",
      "('<http://www.wikidata.org/entity/Q1089074>', 'Federico Zeri') {('Sapienza University of Rome', '<http://www.wikidata.org/entity/Q209344>', 41.903, 12.515)}\n",
      "('<http://www.wikidata.org/entity/Q3057287>', 'Ernst Steinmann') {('Leipzig University', '<http://www.wikidata.org/entity/Q154804>', 51.338, 12.378)}\n",
      "('<http://www.wikidata.org/entity/Q3051533>', 'Ellis Waterhouse') {('University of Oxford New College', '<http://www.wikidata.org/entity/Q1376987>', 51.754, -1.251), ('New College', '<http://www.wikidata.org/entity/Q1376987>', 51.754, -1.251)}\n",
      "('<http://www.wikidata.org/entity/Q60185>', 'Aby Warburg') {('University of Bonn', '<http://www.wikidata.org/entity/Q152171>', 50.733, 7.1022)}\n",
      "('<http://www.wikidata.org/entity/Q457739>', 'Leo Steinberg') {('New York University', '<http://www.wikidata.org/entity/Q49210>', 40.73, -73.99)}\n",
      "('<http://www.wikidata.org/entity/Q19997512>', 'Everett Fahy') {('Harvard University', '<http://www.wikidata.org/entity/Q13371>', 42.374, -71.11)}\n"
     ]
    }
   ],
   "source": [
    "luoghi = {}\n",
    "for storico, proprietà, luogo in g.triples((None, wdt.P69, None)):\n",
    "    for l, nome, nome_del_luogo in g.triples((luogo, RDFS.label, None)):\n",
    "        for location, hascoordinates, coordinate in g.triples((luogo, wdt.P625, None)):\n",
    "            for stor, proprietà, nome_dello_storico in g.triples(( storico, RDFS.label, None)):\n",
    "                if \"wikidata.org/entity/\" in str(storico):\n",
    "                    valore = (nome_del_luogo.strip(), \"<\" + luogo.strip() +\">\", float(coordinate.split(\" \")[1][1:-2][0:6]), float(coordinate.split(\" \")[0][2:-2][0:6]))\n",
    "                    chiave = (\"<\" + stor.strip() +\">\", nome_dello_storico.strip())\n",
    "                    if chiave not in luoghi.keys():\n",
    "                        luoghi[chiave] = set([valore])\n",
    "                    else:\n",
    "                        luoghi[chiave].update([valore])\n",
    "for k, v in luoghi.items():\n",
    "    print(k, v)"
   ]
  },
  {
   "cell_type": "markdown",
   "metadata": {},
   "source": [
    "Andiamo ora ad estrarre i nostri luoghi da ARTchives. Come:\n",
    "1) Estrazione dei subject.\n",
    "2) Individuazione fra essi, dei luoghi (= coloro che hanno coordinate) tramite wikidata.\n",
    "3) Estrazione delle coordinate."
   ]
  },
  {
   "cell_type": "code",
   "execution_count": 48,
   "metadata": {},
   "outputs": [
    {
     "name": "stdout",
     "output_type": "stream",
     "text": [
      "('<http://www.wikidata.org/entity/Q1715096>', 'Ulrich Middeldorf') ['<http://www.wikidata.org/entity/Q183>', '<http://www.wikidata.org/entity/Q183>', '<http://www.wikidata.org/entity/Q152087>', '<http://www.wikidata.org/entity/Q152087>', '<http://www.wikidata.org/entity/Q2143255>', '<http://www.wikidata.org/entity/Q2143255>', '<http://www.wikidata.org/entity/Q5597>', '<http://www.wikidata.org/entity/Q5597>', '<http://www.wikidata.org/entity/Q1361667>', '<http://www.wikidata.org/entity/Q1361667>', '<http://www.wikidata.org/entity/Q317053>', '<http://www.wikidata.org/entity/Q317053>', '<http://www.wikidata.org/entity/Q7787>', '<http://www.wikidata.org/entity/Q7787>', '<http://www.wikidata.org/entity/Q55044>', '<http://www.wikidata.org/entity/Q55044>', '<http://www.wikidata.org/entity/Q714972>', '<http://www.wikidata.org/entity/Q714972>', '<http://www.wikidata.org/entity/Q2044>', '<http://www.wikidata.org/entity/Q2044>', '<http://www.wikidata.org/entity/Q70804>', '<http://www.wikidata.org/entity/Q70804>', '<http://www.wikidata.org/entity/Q38>', '<http://www.wikidata.org/entity/Q38>', '<http://www.wikidata.org/entity/Q131252>', '<http://www.wikidata.org/entity/Q131252>', '<http://www.wikidata.org/entity/Q123466>', '<http://www.wikidata.org/entity/Q123466>', '<http://www.wikidata.org/entity/Q183>', '<http://www.wikidata.org/entity/Q183>', '<http://www.wikidata.org/entity/Q152087>', '<http://www.wikidata.org/entity/Q152087>', '<http://www.wikidata.org/entity/Q2143255>', '<http://www.wikidata.org/entity/Q2143255>', '<http://www.wikidata.org/entity/Q5597>', '<http://www.wikidata.org/entity/Q5597>', '<http://www.wikidata.org/entity/Q1361667>', '<http://www.wikidata.org/entity/Q1361667>', '<http://www.wikidata.org/entity/Q317053>', '<http://www.wikidata.org/entity/Q317053>', '<http://www.wikidata.org/entity/Q7787>', '<http://www.wikidata.org/entity/Q7787>', '<http://www.wikidata.org/entity/Q55044>', '<http://www.wikidata.org/entity/Q55044>', '<http://www.wikidata.org/entity/Q714972>', '<http://www.wikidata.org/entity/Q714972>', '<http://www.wikidata.org/entity/Q2044>', '<http://www.wikidata.org/entity/Q2044>', '<http://www.wikidata.org/entity/Q70804>', '<http://www.wikidata.org/entity/Q70804>', '<http://www.wikidata.org/entity/Q38>', '<http://www.wikidata.org/entity/Q38>', '<http://www.wikidata.org/entity/Q131252>', '<http://www.wikidata.org/entity/Q131252>', '<http://www.wikidata.org/entity/Q123466>', '<http://www.wikidata.org/entity/Q123466>']\n",
      "('<http://www.wikidata.org/entity/Q1712683>', 'Julius S. Held') ['<http://www.wikidata.org/entity/Q208145>', '<http://www.wikidata.org/entity/Q208145>', '<http://www.wikidata.org/entity/Q167733>', '<http://www.wikidata.org/entity/Q167733>', '<http://www.wikidata.org/entity/Q49088>', '<http://www.wikidata.org/entity/Q49088>', '<http://www.wikidata.org/entity/Q5599>', '<http://www.wikidata.org/entity/Q5599>', '<http://www.wikidata.org/entity/Q817921>', '<http://www.wikidata.org/entity/Q817921>', '<http://www.wikidata.org/entity/Q841090>', '<http://www.wikidata.org/entity/Q841090>', '<http://www.wikidata.org/entity/Q1465805>', '<http://www.wikidata.org/entity/Q1465805>', '<http://www.wikidata.org/entity/Q150679>', '<http://www.wikidata.org/entity/Q150679>', '<http://www.wikidata.org/entity/Q5598>', '<http://www.wikidata.org/entity/Q5598>', '<http://www.wikidata.org/entity/Q49166>', '<http://www.wikidata.org/entity/Q49166>', '<http://www.wikidata.org/entity/Q60>', '<http://www.wikidata.org/entity/Q60>']\n",
      "('<http://www.wikidata.org/entity/Q18935222>', 'Werner Cohn') ['<http://www.wikidata.org/entity/Q157575>', '<http://www.wikidata.org/entity/Q51252>', '<http://www.wikidata.org/entity/Q152087>', '<http://www.wikidata.org/entity/Q2044>', '<http://www.wikidata.org/entity/Q49210>', '<http://www.wikidata.org/entity/Q1580468>', '<http://www.wikidata.org/entity/Q20103>', '<http://www.wikidata.org/entity/Q153987>']\n",
      "('<http://www.wikidata.org/entity/Q995470>', 'Kornél Fabriczy') ['<http://www.wikidata.org/entity/Q68455>', '<http://www.wikidata.org/entity/Q1022>', '<http://www.wikidata.org/entity/Q59945>', '<http://www.wikidata.org/entity/Q631286>', '<http://www.wikidata.org/entity/Q90>', '<http://www.wikidata.org/entity/Q2044>', '<http://www.wikidata.org/entity/Q50641>', '<http://www.wikidata.org/entity/Q1404472>', '<http://www.wikidata.org/entity/Q64607>', '<http://www.wikidata.org/entity/Q616004>', '<http://www.wikidata.org/entity/Q174330>', '<http://www.wikidata.org/entity/Q38>', '<http://www.wikidata.org/entity/Q84>']\n",
      "('<http://www.wikidata.org/entity/Q55453618>', 'Stefano Tumidei') ['<http://www.wikidata.org/entity/Q1361667>', '<http://www.wikidata.org/entity/Q314579>', '<http://www.wikidata.org/entity/Q1089074>', '<http://www.wikidata.org/entity/Q2044>', '<http://www.wikidata.org/entity/Q13367>', '<http://www.wikidata.org/entity/Q1891>', '<http://www.wikidata.org/entity/Q220>', '<http://www.wikidata.org/entity/Q1263>', '<http://www.wikidata.org/entity/Q160538>']\n",
      "('<http://www.wikidata.org/entity/Q3057287>', 'Ernst Steinmann') ['<http://www.wikidata.org/entity/Q154804>', '<http://www.wikidata.org/entity/Q154804>', '<http://www.wikidata.org/entity/Q154804>', '<http://www.wikidata.org/entity/Q2044>', '<http://www.wikidata.org/entity/Q2044>', '<http://www.wikidata.org/entity/Q2044>', '<http://www.wikidata.org/entity/Q215999>', '<http://www.wikidata.org/entity/Q215999>', '<http://www.wikidata.org/entity/Q215999>', '<http://www.wikidata.org/entity/Q103498>', '<http://www.wikidata.org/entity/Q103498>', '<http://www.wikidata.org/entity/Q103498>', '<http://www.wikidata.org/entity/Q7320>', '<http://www.wikidata.org/entity/Q7320>', '<http://www.wikidata.org/entity/Q7320>', '<http://www.wikidata.org/entity/Q5592>', '<http://www.wikidata.org/entity/Q5592>', '<http://www.wikidata.org/entity/Q5592>', '<http://www.wikidata.org/entity/Q158085>', '<http://www.wikidata.org/entity/Q158085>', '<http://www.wikidata.org/entity/Q158085>', '<http://www.wikidata.org/entity/Q220>', '<http://www.wikidata.org/entity/Q220>', '<http://www.wikidata.org/entity/Q220>', '<http://www.wikidata.org/entity/Q517>', '<http://www.wikidata.org/entity/Q517>', '<http://www.wikidata.org/entity/Q517>', '<http://www.wikidata.org/entity/Q1277188>', '<http://www.wikidata.org/entity/Q1277188>', '<http://www.wikidata.org/entity/Q1277188>', '<http://www.wikidata.org/entity/Q671011>', '<http://www.wikidata.org/entity/Q671011>', '<http://www.wikidata.org/entity/Q671011>', '<http://www.wikidata.org/entity/Q64637>', '<http://www.wikidata.org/entity/Q64637>', '<http://www.wikidata.org/entity/Q64637>', '<http://www.wikidata.org/entity/Q159895>', '<http://www.wikidata.org/entity/Q159895>', '<http://www.wikidata.org/entity/Q159895>', '<http://www.wikidata.org/entity/Q708038>', '<http://www.wikidata.org/entity/Q708038>', '<http://www.wikidata.org/entity/Q708038>', '<http://www.wikidata.org/entity/Q104520>', '<http://www.wikidata.org/entity/Q104520>', '<http://www.wikidata.org/entity/Q104520>', '<http://www.wikidata.org/entity/Q23540>', '<http://www.wikidata.org/entity/Q23540>', '<http://www.wikidata.org/entity/Q23540>', '<http://www.wikidata.org/entity/Q361>', '<http://www.wikidata.org/entity/Q361>', '<http://www.wikidata.org/entity/Q361>', '<http://www.wikidata.org/entity/Q183>', '<http://www.wikidata.org/entity/Q183>', '<http://www.wikidata.org/entity/Q183>', '<http://www.wikidata.org/entity/Q1404472>', '<http://www.wikidata.org/entity/Q1404472>', '<http://www.wikidata.org/entity/Q1404472>', '<http://www.wikidata.org/entity/Q90407>', '<http://www.wikidata.org/entity/Q90407>', '<http://www.wikidata.org/entity/Q90407>', '<http://www.wikidata.org/entity/Q38>', '<http://www.wikidata.org/entity/Q38>', '<http://www.wikidata.org/entity/Q38>']\n",
      "('<http://www.wikidata.org/entity/Q1641821>', 'Otto Lehmann-Brockhaus') ['<http://www.wikidata.org/entity/Q875788>', '<http://www.wikidata.org/entity/Q875788>', '<http://www.wikidata.org/entity/Q875788>', '<http://www.wikidata.org/entity/Q190617>', '<http://www.wikidata.org/entity/Q190617>', '<http://www.wikidata.org/entity/Q190617>', '<http://www.wikidata.org/entity/Q3033>', '<http://www.wikidata.org/entity/Q3033>', '<http://www.wikidata.org/entity/Q3033>', '<http://www.wikidata.org/entity/Q3949>', '<http://www.wikidata.org/entity/Q3949>', '<http://www.wikidata.org/entity/Q3949>', '<http://www.wikidata.org/entity/Q220>', '<http://www.wikidata.org/entity/Q220>', '<http://www.wikidata.org/entity/Q220>', '<http://www.wikidata.org/entity/Q701741>', '<http://www.wikidata.org/entity/Q701741>', '<http://www.wikidata.org/entity/Q701741>', '<http://www.wikidata.org/entity/Q55044>', '<http://www.wikidata.org/entity/Q55044>', '<http://www.wikidata.org/entity/Q55044>', '<http://www.wikidata.org/entity/Q155354>', '<http://www.wikidata.org/entity/Q155354>', '<http://www.wikidata.org/entity/Q155354>']\n",
      "('<http://www.wikidata.org/entity/Q1271052>', 'Fritz Heinemann') ['<http://www.wikidata.org/entity/Q1060159>', '<http://www.wikidata.org/entity/Q70787>', '<http://www.wikidata.org/entity/Q39>']\n",
      "('<http://www.wikidata.org/entity/Q90407>', 'Richard Krautheimer') ['<http://www.wikidata.org/entity/Q6167922>', '<http://www.wikidata.org/entity/Q6167922>', '<http://www.wikidata.org/entity/Q6167922>', '<http://www.wikidata.org/entity/Q7330>', '<http://www.wikidata.org/entity/Q7330>', '<http://www.wikidata.org/entity/Q7330>', '<http://www.wikidata.org/entity/Q37853>', '<http://www.wikidata.org/entity/Q37853>', '<http://www.wikidata.org/entity/Q37853>', '<http://www.wikidata.org/entity/Q701741>', '<http://www.wikidata.org/entity/Q701741>', '<http://www.wikidata.org/entity/Q701741>', '<http://www.wikidata.org/entity/Q30>', '<http://www.wikidata.org/entity/Q30>', '<http://www.wikidata.org/entity/Q30>', '<http://www.wikidata.org/entity/Q49210>', '<http://www.wikidata.org/entity/Q49210>', '<http://www.wikidata.org/entity/Q49210>', '<http://www.wikidata.org/entity/Q220>', '<http://www.wikidata.org/entity/Q220>', '<http://www.wikidata.org/entity/Q220>', '<http://www.wikidata.org/entity/Q1277188>', '<http://www.wikidata.org/entity/Q1277188>', '<http://www.wikidata.org/entity/Q1277188>', '<http://www.wikidata.org/entity/Q88907>', '<http://www.wikidata.org/entity/Q88907>', '<http://www.wikidata.org/entity/Q88907>', '<http://www.wikidata.org/entity/Q648154>', '<http://www.wikidata.org/entity/Q648154>', '<http://www.wikidata.org/entity/Q648154>', '<http://www.wikidata.org/entity/Q1317143>', '<http://www.wikidata.org/entity/Q1317143>', '<http://www.wikidata.org/entity/Q1317143>', '<http://www.wikidata.org/entity/Q361>', '<http://www.wikidata.org/entity/Q361>', '<http://www.wikidata.org/entity/Q361>', '<http://www.wikidata.org/entity/Q1729>', '<http://www.wikidata.org/entity/Q1729>', '<http://www.wikidata.org/entity/Q1729>', '<http://www.wikidata.org/entity/Q183>', '<http://www.wikidata.org/entity/Q183>', '<http://www.wikidata.org/entity/Q183>', '<http://www.wikidata.org/entity/Q107970>', '<http://www.wikidata.org/entity/Q107970>', '<http://www.wikidata.org/entity/Q107970>', '<http://www.wikidata.org/entity/Q55044>', '<http://www.wikidata.org/entity/Q55044>', '<http://www.wikidata.org/entity/Q55044>', '<http://www.wikidata.org/entity/Q70804>', '<http://www.wikidata.org/entity/Q70804>', '<http://www.wikidata.org/entity/Q70804>', '<http://www.wikidata.org/entity/Q3869>', '<http://www.wikidata.org/entity/Q3869>', '<http://www.wikidata.org/entity/Q3869>', '<http://www.wikidata.org/entity/Q119190>', '<http://www.wikidata.org/entity/Q119190>', '<http://www.wikidata.org/entity/Q119190>', '<http://www.wikidata.org/entity/Q123466>', '<http://www.wikidata.org/entity/Q123466>', '<http://www.wikidata.org/entity/Q123466>', '<http://www.wikidata.org/entity/Q362>', '<http://www.wikidata.org/entity/Q362>', '<http://www.wikidata.org/entity/Q362>', '<http://www.wikidata.org/entity/Q215999>', '<http://www.wikidata.org/entity/Q215999>', '<http://www.wikidata.org/entity/Q215999>', '<http://www.wikidata.org/entity/Q152087>', '<http://www.wikidata.org/entity/Q152087>', '<http://www.wikidata.org/entity/Q152087>']\n",
      "('<http://www.wikidata.org/entity/Q19997512>', 'Everett Fahy') ['<http://www.wikidata.org/entity/Q1089074>', '<http://www.wikidata.org/entity/Q1089074>', '<http://www.wikidata.org/entity/Q213439>', '<http://www.wikidata.org/entity/Q213439>', '<http://www.wikidata.org/entity/Q49210>', '<http://www.wikidata.org/entity/Q49210>', '<http://www.wikidata.org/entity/Q3558578>', '<http://www.wikidata.org/entity/Q3558578>', '<http://www.wikidata.org/entity/Q1345>', '<http://www.wikidata.org/entity/Q1345>', '<http://www.wikidata.org/entity/Q13371>', '<http://www.wikidata.org/entity/Q13371>', '<http://www.wikidata.org/entity/Q537874>', '<http://www.wikidata.org/entity/Q537874>', '<http://www.wikidata.org/entity/Q2044>', '<http://www.wikidata.org/entity/Q2044>', '<http://www.wikidata.org/entity/Q682827>', '<http://www.wikidata.org/entity/Q682827>', '<http://www.wikidata.org/entity/Q38>', '<http://www.wikidata.org/entity/Q38>', '<http://www.wikidata.org/entity/Q191423>', '<http://www.wikidata.org/entity/Q191423>']\n",
      "('<http://www.wikidata.org/entity/Q1089074>', 'Federico Zeri') ['<http://www.wikidata.org/entity/Q38>', '<http://www.wikidata.org/entity/Q38>', '<http://www.wikidata.org/entity/Q38>', '<http://www.wikidata.org/entity/Q38>', '<http://www.wikidata.org/entity/Q49088>', '<http://www.wikidata.org/entity/Q49088>', '<http://www.wikidata.org/entity/Q49088>', '<http://www.wikidata.org/entity/Q49088>', '<http://www.wikidata.org/entity/Q90>', '<http://www.wikidata.org/entity/Q90>', '<http://www.wikidata.org/entity/Q90>', '<http://www.wikidata.org/entity/Q90>', '<http://www.wikidata.org/entity/Q5092>', '<http://www.wikidata.org/entity/Q5092>', '<http://www.wikidata.org/entity/Q5092>', '<http://www.wikidata.org/entity/Q5092>', '<http://www.wikidata.org/entity/Q170027>', '<http://www.wikidata.org/entity/Q170027>', '<http://www.wikidata.org/entity/Q170027>', '<http://www.wikidata.org/entity/Q170027>', '<http://www.wikidata.org/entity/Q215037>', '<http://www.wikidata.org/entity/Q215037>', '<http://www.wikidata.org/entity/Q215037>', '<http://www.wikidata.org/entity/Q215037>', '<http://www.wikidata.org/entity/Q3757699>', '<http://www.wikidata.org/entity/Q3757699>', '<http://www.wikidata.org/entity/Q3757699>', '<http://www.wikidata.org/entity/Q3757699>', '<http://www.wikidata.org/entity/Q1361667>', '<http://www.wikidata.org/entity/Q1361667>', '<http://www.wikidata.org/entity/Q1361667>', '<http://www.wikidata.org/entity/Q1361667>', '<http://www.wikidata.org/entity/Q210081>', '<http://www.wikidata.org/entity/Q210081>', '<http://www.wikidata.org/entity/Q210081>', '<http://www.wikidata.org/entity/Q210081>', '<http://www.wikidata.org/entity/Q242942>', '<http://www.wikidata.org/entity/Q242942>', '<http://www.wikidata.org/entity/Q242942>', '<http://www.wikidata.org/entity/Q242942>', '<http://www.wikidata.org/entity/Q2538308>', '<http://www.wikidata.org/entity/Q2538308>', '<http://www.wikidata.org/entity/Q2538308>', '<http://www.wikidata.org/entity/Q2538308>', '<http://www.wikidata.org/entity/Q1891>', '<http://www.wikidata.org/entity/Q1891>', '<http://www.wikidata.org/entity/Q1891>', '<http://www.wikidata.org/entity/Q1891>', '<http://www.wikidata.org/entity/Q220>', '<http://www.wikidata.org/entity/Q220>', '<http://www.wikidata.org/entity/Q220>', '<http://www.wikidata.org/entity/Q220>', '<http://www.wikidata.org/entity/Q60>', '<http://www.wikidata.org/entity/Q60>', '<http://www.wikidata.org/entity/Q60>', '<http://www.wikidata.org/entity/Q60>', '<http://www.wikidata.org/entity/Q981971>', '<http://www.wikidata.org/entity/Q981971>', '<http://www.wikidata.org/entity/Q981971>', '<http://www.wikidata.org/entity/Q981971>', '<http://www.wikidata.org/entity/Q30>', '<http://www.wikidata.org/entity/Q30>', '<http://www.wikidata.org/entity/Q30>', '<http://www.wikidata.org/entity/Q30>', '<http://www.wikidata.org/entity/Q13371>', '<http://www.wikidata.org/entity/Q13371>', '<http://www.wikidata.org/entity/Q13371>', '<http://www.wikidata.org/entity/Q13371>', '<http://www.wikidata.org/entity/Q537874>', '<http://www.wikidata.org/entity/Q537874>', '<http://www.wikidata.org/entity/Q537874>', '<http://www.wikidata.org/entity/Q537874>', '<http://www.wikidata.org/entity/Q723358>', '<http://www.wikidata.org/entity/Q723358>', '<http://www.wikidata.org/entity/Q723358>', '<http://www.wikidata.org/entity/Q723358>', '<http://www.wikidata.org/entity/Q65>', '<http://www.wikidata.org/entity/Q65>', '<http://www.wikidata.org/entity/Q65>', '<http://www.wikidata.org/entity/Q65>', '<http://www.wikidata.org/entity/Q359047>', '<http://www.wikidata.org/entity/Q359047>', '<http://www.wikidata.org/entity/Q359047>', '<http://www.wikidata.org/entity/Q359047>', '<http://www.wikidata.org/entity/Q3705445>', '<http://www.wikidata.org/entity/Q3705445>', '<http://www.wikidata.org/entity/Q3705445>', '<http://www.wikidata.org/entity/Q3705445>', '<http://www.wikidata.org/entity/Q3769356>', '<http://www.wikidata.org/entity/Q3769356>', '<http://www.wikidata.org/entity/Q3769356>', '<http://www.wikidata.org/entity/Q3769356>', '<http://www.wikidata.org/entity/Q807815>', '<http://www.wikidata.org/entity/Q807815>', '<http://www.wikidata.org/entity/Q807815>', '<http://www.wikidata.org/entity/Q807815>']\n",
      "('<http://www.wikidata.org/entity/Q537874>', 'John Pope-Hennessy') ['<http://www.wikidata.org/entity/Q6373>', '<http://www.wikidata.org/entity/Q6373>', '<http://www.wikidata.org/entity/Q6373>', '<http://www.wikidata.org/entity/Q946420>', '<http://www.wikidata.org/entity/Q946420>', '<http://www.wikidata.org/entity/Q946420>', '<http://www.wikidata.org/entity/Q537874>', '<http://www.wikidata.org/entity/Q537874>', '<http://www.wikidata.org/entity/Q537874>', '<http://www.wikidata.org/entity/Q1404472>', '<http://www.wikidata.org/entity/Q1404472>', '<http://www.wikidata.org/entity/Q1404472>', '<http://www.wikidata.org/entity/Q50641>', '<http://www.wikidata.org/entity/Q50641>', '<http://www.wikidata.org/entity/Q50641>', '<http://www.wikidata.org/entity/Q869690>', '<http://www.wikidata.org/entity/Q869690>', '<http://www.wikidata.org/entity/Q869690>', '<http://www.wikidata.org/entity/Q38>', '<http://www.wikidata.org/entity/Q38>', '<http://www.wikidata.org/entity/Q38>', '<http://www.wikidata.org/entity/Q2751>', '<http://www.wikidata.org/entity/Q2751>', '<http://www.wikidata.org/entity/Q2751>', '<http://www.wikidata.org/entity/Q213523>', '<http://www.wikidata.org/entity/Q213523>', '<http://www.wikidata.org/entity/Q213523>', '<http://www.wikidata.org/entity/Q49210>', '<http://www.wikidata.org/entity/Q49210>', '<http://www.wikidata.org/entity/Q49210>', '<http://www.wikidata.org/entity/Q37562>', '<http://www.wikidata.org/entity/Q37562>', '<http://www.wikidata.org/entity/Q37562>']\n",
      "('<http://www.wikidata.org/entity/Q61913691>', 'Luisa Vertova') ['<http://www.wikidata.org/entity/Q220>', '<http://www.wikidata.org/entity/Q359047>', '<http://www.wikidata.org/entity/Q1210>', '<http://www.wikidata.org/entity/Q3558578>', '<http://www.wikidata.org/entity/Q2044>', '<http://www.wikidata.org/entity/Q490>', '<http://www.wikidata.org/entity/Q84>', '<http://www.wikidata.org/entity/Q942605>']\n",
      "('<http://www.wikidata.org/entity/Q457739>', 'Leo Steinberg') ['<http://www.wikidata.org/entity/Q45019>', '<http://www.wikidata.org/entity/Q45019>', '<http://www.wikidata.org/entity/Q37853>', '<http://www.wikidata.org/entity/Q37853>', '<http://www.wikidata.org/entity/Q50637>', '<http://www.wikidata.org/entity/Q50637>', '<http://www.wikidata.org/entity/Q159>', '<http://www.wikidata.org/entity/Q159>', '<http://www.wikidata.org/entity/Q3099146>', '<http://www.wikidata.org/entity/Q3099146>', '<http://www.wikidata.org/entity/Q170027>', '<http://www.wikidata.org/entity/Q170027>', '<http://www.wikidata.org/entity/Q5667416>', '<http://www.wikidata.org/entity/Q5667416>', '<http://www.wikidata.org/entity/Q30>', '<http://www.wikidata.org/entity/Q30>', '<http://www.wikidata.org/entity/Q220>', '<http://www.wikidata.org/entity/Q220>', '<http://www.wikidata.org/entity/Q57656>', '<http://www.wikidata.org/entity/Q57656>', '<http://www.wikidata.org/entity/Q701741>', '<http://www.wikidata.org/entity/Q701741>', '<http://www.wikidata.org/entity/Q457739>', '<http://www.wikidata.org/entity/Q457739>', '<http://www.wikidata.org/entity/Q1257962>', '<http://www.wikidata.org/entity/Q1257962>', '<http://www.wikidata.org/entity/Q152087>', '<http://www.wikidata.org/entity/Q152087>', '<http://www.wikidata.org/entity/Q90407>', '<http://www.wikidata.org/entity/Q90407>', '<http://www.wikidata.org/entity/Q1399299>', '<http://www.wikidata.org/entity/Q1399299>', '<http://www.wikidata.org/entity/Q752297>', '<http://www.wikidata.org/entity/Q752297>']\n",
      "('<http://www.wikidata.org/entity/Q88907>', 'Ernst Kitzinger') ['<http://www.wikidata.org/entity/Q3624153>', '<http://www.wikidata.org/entity/Q3624153>', '<http://www.wikidata.org/entity/Q3624153>', '<http://www.wikidata.org/entity/Q211884>', '<http://www.wikidata.org/entity/Q211884>', '<http://www.wikidata.org/entity/Q211884>']\n",
      "('<http://www.wikidata.org/entity/Q2824734>', 'Adolfo Venturi') ['<http://www.wikidata.org/entity/Q220>', '<http://www.wikidata.org/entity/Q774128>', '<http://www.wikidata.org/entity/Q279>']\n",
      "('<http://www.wikidata.org/entity/Q60185>', 'Aby Warburg') ['<http://www.wikidata.org/entity/Q1055>', '<http://www.wikidata.org/entity/Q5828092>', '<http://www.wikidata.org/entity/Q5669>', '<http://www.wikidata.org/entity/Q47163>', '<http://www.wikidata.org/entity/Q364808>', '<http://www.wikidata.org/entity/Q7991>', '<http://www.wikidata.org/entity/Q30>', '<http://www.wikidata.org/entity/Q1890649>', '<http://www.wikidata.org/entity/Q208145>', '<http://www.wikidata.org/entity/Q80083>', '<http://www.wikidata.org/entity/Q841090>', '<http://www.wikidata.org/entity/Q597283>', '<http://www.wikidata.org/entity/Q134194>', '<http://www.wikidata.org/entity/Q359047>', '<http://www.wikidata.org/entity/Q77314>', '<http://www.wikidata.org/entity/Q55044>', '<http://www.wikidata.org/entity/Q152171>', '<http://www.wikidata.org/entity/Q373916>', '<http://www.wikidata.org/entity/Q313>', '<http://www.wikidata.org/entity/Q830560>', '<http://www.wikidata.org/entity/Q57656>', '<http://www.wikidata.org/entity/Q50637>', '<http://www.wikidata.org/entity/Q59945>', '<http://www.wikidata.org/entity/Q77856>', '<http://www.wikidata.org/entity/Q9418>', '<http://www.wikidata.org/entity/Q2044>', '<http://www.wikidata.org/entity/Q157575>', '<http://www.wikidata.org/entity/Q256922>', '<http://www.wikidata.org/entity/Q762>', '<http://www.wikidata.org/entity/Q152087>', '<http://www.wikidata.org/entity/Q12554>', '<http://www.wikidata.org/entity/Q63078>', '<http://www.wikidata.org/entity/Q683095>']\n",
      "('<http://www.wikidata.org/entity/Q3051533>', 'Ellis Waterhouse') ['<http://www.wikidata.org/entity/Q12271>', '<http://www.wikidata.org/entity/Q131808>', '<http://www.wikidata.org/entity/Q37853>', '<http://www.wikidata.org/entity/Q125191>', '<http://www.wikidata.org/entity/Q93184>', '<http://www.wikidata.org/entity/Q3305213>', '<http://www.wikidata.org/entity/Q208165>', '<http://www.wikidata.org/entity/Q1510510>']\n",
      "('<http://www.wikidata.org/entity/Q1629748>', 'Kurt Badt') ['<http://www.wikidata.org/entity/Q41264>', '<http://www.wikidata.org/entity/Q100715>', '<http://www.wikidata.org/entity/Q35548>', '<http://www.wikidata.org/entity/Q79084>', '<http://www.wikidata.org/entity/Q693591>', '<http://www.wikidata.org/entity/Q165980>', '<http://www.wikidata.org/entity/Q55044>', '<http://www.wikidata.org/entity/Q5597>', '<http://www.wikidata.org/entity/Q57656>', '<http://www.wikidata.org/entity/Q156890>', '<http://www.wikidata.org/entity/Q153987>', '<http://www.wikidata.org/entity/Q551282>', '<http://www.wikidata.org/entity/Q152087>', '<http://www.wikidata.org/entity/Q33477>', '<http://www.wikidata.org/entity/Q170027>', '<http://www.wikidata.org/entity/Q495110>', '<http://www.wikidata.org/entity/Q683095>', '<http://www.wikidata.org/entity/Q159297>', '<http://www.wikidata.org/entity/Q9440>', '<http://www.wikidata.org/entity/Q41554>', '<http://www.wikidata.org/entity/Q15989599>']\n",
      "('<http://www.wikidata.org/entity/Q85761254>', 'Julian Kliemann') ['<http://www.wikidata.org/entity/Q724192>', '<http://www.wikidata.org/entity/Q128027>', '<http://www.wikidata.org/entity/Q50675>', '<http://www.wikidata.org/entity/Q220>', '<http://www.wikidata.org/entity/Q345605>', '<http://www.wikidata.org/entity/Q170022>', '<http://www.wikidata.org/entity/Q151510>', '<http://www.wikidata.org/entity/Q11203476>', '<http://www.wikidata.org/entity/Q1404472>', '<http://www.wikidata.org/entity/Q3558578>', '<http://www.wikidata.org/entity/Q55044>', '<http://www.wikidata.org/entity/Q152087>']\n",
      "('<http://www.wikidata.org/entity/Q41616785>', 'Gustav Ludwig') ['<http://www.wikidata.org/entity/Q84>', '<http://www.wikidata.org/entity/Q1741>', '<http://www.wikidata.org/entity/Q641>']\n"
     ]
    }
   ],
   "source": [
    "related = {} #dictionary to collect the main subjects of an art historian -p921- present in ARTchives data \n",
    "for s,p,o in g.triples(( None, wdt.P170, None)):   \n",
    "    if \"wikidata.org/entity/\" in str(o):           \n",
    "        for hist, prop, obj in g.triples((o, wdt.P921, None)):     \n",
    "            for subj, pr, name in g.triples(( hist, RDFS.label, None)):   \n",
    "                key = tuple(['<' + str(hist) + '>', name.strip()])\n",
    "                value = '<' + str(obj) + '>'\n",
    "                if key not in related.keys(): #the dict has as keys the historians and as values the relative list of main subjects.\n",
    "                    related[key] = [value]\n",
    "                else:\n",
    "                    related[key].append(value)\n",
    "    \n",
    "for k, v in related.items():\n",
    "    print(k, v)\n",
    "\n",
    "\n"
   ]
  },
  {
   "cell_type": "markdown",
   "metadata": {},
   "source": [
    "Cerchiamo le coordinate dei luoghi individuati, interrogando Wikidata."
   ]
  },
  {
   "cell_type": "code",
   "execution_count": 49,
   "metadata": {},
   "outputs": [
    {
     "name": "stdout",
     "output_type": "stream",
     "text": [
      "('<http://www.wikidata.org/entity/Q90407>', 'Richard Krautheimer') {('Marburg', '<http://www.wikidata.org/entity/Q3869>', 50.816, 8.7666), ('University of Louisville', '<http://www.wikidata.org/entity/Q1317143>', 38.215, -85.76), ('United States of America', '<http://www.wikidata.org/entity/Q30>', 39.828, -98.57), ('University of Halle-Wittenberg', '<http://www.wikidata.org/entity/Q32120>', 51.486, 11.968), ('Ludwig Maximilian University of Munich', '<http://www.wikidata.org/entity/Q55044>', 48.15, 11.58), ('Palazzetto Zuccari', '<http://www.wikidata.org/entity/Q1277188>', 41.905, 12.483), ('Germany', '<http://www.wikidata.org/entity/Q183>', 51.0, 10.0), ('Rome', '<http://www.wikidata.org/entity/Q220>', 41.893, 12.482), ('United States', '<http://www.wikidata.org/entity/Q30>', 39.828, -98.57), ('New York University', '<http://www.wikidata.org/entity/Q49210>', 40.73, -73.99), ('Vassar College', '<http://www.wikidata.org/entity/Q2093794>', 41.686, -73.89), ('Erfurt', '<http://www.wikidata.org/entity/Q1729>', 50.978, 11.029), ('Humboldt University of Berlin', '<http://www.wikidata.org/entity/Q152087>', 52.518, 13.393), ('University of Marburg', '<http://www.wikidata.org/entity/Q155354>', 50.81, 8.7736)}\n",
      "('<http://www.wikidata.org/entity/Q1089074>', 'Federico Zeri') {('New York City', '<http://www.wikidata.org/entity/Q60>', 40.67, -73.94), ('Italy', '<http://www.wikidata.org/entity/Q38>', 42.5, 12.5), ('Paris', '<http://www.wikidata.org/entity/Q90>', 48.856, 2.3513), ('Los Angeles', '<http://www.wikidata.org/entity/Q65>', 34.052, -118.2), ('Sapienza University of Rome', '<http://www.wikidata.org/entity/Q209344>', 41.903, 12.515), ('University of London', '<http://www.wikidata.org/entity/Q170027>', 51.521, -0.128), ('Rome', '<http://www.wikidata.org/entity/Q220>', 41.893, 12.482), ('Columbia University', '<http://www.wikidata.org/entity/Q49088>', 40.807, -73.96), ('Mentana', '<http://www.wikidata.org/entity/Q242942>', 42.033, 12.644), ('Galleria Spada', '<http://www.wikidata.org/entity/Q3757699>', 41.894, 12.471), ('United States', '<http://www.wikidata.org/entity/Q30>', 39.828, -98.57), ('Baltimore', '<http://www.wikidata.org/entity/Q5092>', 39.286, -76.61), ('Bologna', '<http://www.wikidata.org/entity/Q1891>', 44.493, 11.342), ('Walters Art Museum', '<http://www.wikidata.org/entity/Q210081>', 39.296, -76.61), ('United States of America', '<http://www.wikidata.org/entity/Q30>', 39.828, -98.57), ('Harvard University', '<http://www.wikidata.org/entity/Q13371>', 42.374, -71.11)}\n",
      "('<http://www.wikidata.org/entity/Q3057287>', 'Ernst Steinmann') {('Italy', '<http://www.wikidata.org/entity/Q38>', 42.5, 12.5), ('University of Rostock', '<http://www.wikidata.org/entity/Q159895>', 54.088, 12.133), ('Palazzetto Zuccari', '<http://www.wikidata.org/entity/Q1277188>', 41.905, 12.483), ('Germany', '<http://www.wikidata.org/entity/Q183>', 51.0, 10.0), ('Rome', '<http://www.wikidata.org/entity/Q220>', 41.893, 12.482), ('Pomerania', '<http://www.wikidata.org/entity/Q104520>', 54.294, 18.153), ('Leipzig University', '<http://www.wikidata.org/entity/Q154804>', 51.338, 12.378), ('Max Planck Society', '<http://www.wikidata.org/entity/Q158085>', 48.141, 11.582), ('Jördenstorf', '<http://www.wikidata.org/entity/Q671011>', 53.883, 12.616), ('Florence', '<http://www.wikidata.org/entity/Q2044>', 43.771, 11.254)}\n",
      "('<http://www.wikidata.org/entity/Q3051533>', 'Ellis Waterhouse') {('University of Oxford New College', '<http://www.wikidata.org/entity/Q1376987>', 51.754, -1.251), ('New College', '<http://www.wikidata.org/entity/Q1376987>', 51.754, -1.251), ('Country Homes', '<http://www.wikidata.org/entity/Q1510510>', 47.745, -117.4)}\n",
      "('<http://www.wikidata.org/entity/Q60185>', 'Aby Warburg') {('Ludwig Maximilian University of Munich', '<http://www.wikidata.org/entity/Q55044>', 48.15, 11.58), ('Hamburg', '<http://www.wikidata.org/entity/Q1055>', 53.55, 10.0), ('United States', '<http://www.wikidata.org/entity/Q30>', 39.828, -98.57), ('Humboldt University of Berlin', '<http://www.wikidata.org/entity/Q152087>', 52.518, 13.393), ('University of Strasbourg', '<http://www.wikidata.org/entity/Q157575>', 48.58, 7.7644), ('University of Bonn', '<http://www.wikidata.org/entity/Q152171>', 50.733, 7.1022), ('United States of America', '<http://www.wikidata.org/entity/Q30>', 39.828, -98.57), ('Florence', '<http://www.wikidata.org/entity/Q2044>', 43.771, 11.254)}\n",
      "('<http://www.wikidata.org/entity/Q457739>', 'Leo Steinberg') {('Slade School of Fine Art', '<http://www.wikidata.org/entity/Q1399299>', 51.525, -0.134), ('University of London', '<http://www.wikidata.org/entity/Q170027>', 51.521, -0.128), ('Rome', '<http://www.wikidata.org/entity/Q220>', 41.893, 12.482), ('Russia', '<http://www.wikidata.org/entity/Q159>', 66.416, 94.25), ('New York University', '<http://www.wikidata.org/entity/Q49210>', 40.73, -73.99), ('United States', '<http://www.wikidata.org/entity/Q30>', 39.828, -98.57), ('Humboldt University of Berlin', '<http://www.wikidata.org/entity/Q152087>', 52.518, 13.393), ('United States of America', '<http://www.wikidata.org/entity/Q30>', 39.828, -98.57)}\n",
      "('<http://www.wikidata.org/entity/Q19997512>', 'Everett Fahy') {('Harvard University Center for Italian Renaissance Studies', '<http://www.wikidata.org/entity/Q3558578>', 43.794, 11.315), ('Philadelphia', '<http://www.wikidata.org/entity/Q1345>', 39.952, -75.16), ('Italy', '<http://www.wikidata.org/entity/Q38>', 42.5, 12.5), ('New York University', '<http://www.wikidata.org/entity/Q49210>', 40.73, -73.99), ('The Frick Collection', '<http://www.wikidata.org/entity/Q682827>', 40.771, -73.96), ('Harvard University', '<http://www.wikidata.org/entity/Q13371>', 42.374, -71.11), ('Florence', '<http://www.wikidata.org/entity/Q2044>', 43.771, 11.254)}\n",
      "('<http://www.wikidata.org/entity/Q1715096>', 'Ulrich Middeldorf') {('University of Chicago', '<http://www.wikidata.org/entity/Q131252>', 41.789, -87.59), ('Italy', '<http://www.wikidata.org/entity/Q38>', 42.5, 12.5), ('Ludwig Maximilian University of Munich', '<http://www.wikidata.org/entity/Q55044>', 48.15, 11.58), ('University of Giessen', '<http://www.wikidata.org/entity/Q317053>', 50.58, 8.6763), ('Germany', '<http://www.wikidata.org/entity/Q183>', 51.0, 10.0), ('Renaissance Society', '<http://www.wikidata.org/entity/Q2143255>', 41.789, -87.6), ('Humboldt University of Berlin', '<http://www.wikidata.org/entity/Q152087>', 52.518, 13.393), ('Florence', '<http://www.wikidata.org/entity/Q2044>', 43.771, 11.254)}\n",
      "('<http://www.wikidata.org/entity/Q1712683>', 'Julius S. Held') {('New York City', '<http://www.wikidata.org/entity/Q60>', 40.67, -73.94), ('Williams College', '<http://www.wikidata.org/entity/Q49166>', 42.712, -73.2), ('Clark Art Institute', '<http://www.wikidata.org/entity/Q1465805>', 42.707, -73.21), ('Bennington', '<http://www.wikidata.org/entity/Q817921>', 42.885, -73.21), ('Barnard College', '<http://www.wikidata.org/entity/Q167733>', 40.809, -73.96), ('Bennington', '<http://www.wikidata.org/entity/Q817921>', 42.878, -73.19), ('Columbia University', '<http://www.wikidata.org/entity/Q49088>', 40.807, -73.96)}\n",
      "('<http://www.wikidata.org/entity/Q18935222>', 'Werner Cohn') {('University of Freiburg', '<http://www.wikidata.org/entity/Q153987>', 47.994, 7.8469), ('Assisi', '<http://www.wikidata.org/entity/Q20103>', 43.07, 12.617), ('Uffizi', '<http://www.wikidata.org/entity/Q51252>', 43.768, 11.255), ('New York University', '<http://www.wikidata.org/entity/Q49210>', 40.73, -73.99), ('University of Strasbourg', '<http://www.wikidata.org/entity/Q157575>', 48.58, 7.7644), ('Humboldt University of Berlin', '<http://www.wikidata.org/entity/Q152087>', 52.518, 13.393), ('Florence', '<http://www.wikidata.org/entity/Q2044>', 43.771, 11.254)}\n",
      "('<http://www.wikidata.org/entity/Q995470>', 'Kornél Fabriczy') {('Italy', '<http://www.wikidata.org/entity/Q38>', 42.5, 12.5), ('Paris', '<http://www.wikidata.org/entity/Q90>', 48.856, 2.3513), ('Stuttgart', '<http://www.wikidata.org/entity/Q1022>', 48.776, 9.1775), ('London', '<http://www.wikidata.org/entity/Q84>', 51.507, -0.127), ('Florence', '<http://www.wikidata.org/entity/Q2044>', 43.771, 11.254)}\n",
      "('<http://www.wikidata.org/entity/Q55453618>', 'Stefano Tumidei') {('Emilia-Romagna', '<http://www.wikidata.org/entity/Q1263>', 44.75, 11.0), ('Forlì', '<http://www.wikidata.org/entity/Q13367>', 44.222, 12.04), ('Rome', '<http://www.wikidata.org/entity/Q220>', 41.893, 12.482), ('Bologna', '<http://www.wikidata.org/entity/Q1891>', 44.493, 11.342), ('Florence', '<http://www.wikidata.org/entity/Q2044>', 43.771, 11.254)}\n",
      "('<http://www.wikidata.org/entity/Q1641821>', 'Otto Lehmann-Brockhaus') {('Göttingen', '<http://www.wikidata.org/entity/Q3033>', 51.533, 9.9355), ('University of Innsbruck', '<http://www.wikidata.org/entity/Q875788>', 47.263, 11.383), ('Ludwig Maximilian University of Munich', '<http://www.wikidata.org/entity/Q55044>', 48.15, 11.58), ('Rome', '<http://www.wikidata.org/entity/Q220>', 41.893, 12.482), ('Unna', '<http://www.wikidata.org/entity/Q3949>', 51.534, 7.6888), ('University of Marburg', '<http://www.wikidata.org/entity/Q155354>', 50.81, 8.7736)}\n",
      "('<http://www.wikidata.org/entity/Q1271052>', 'Fritz Heinemann') {('Switzerland', '<http://www.wikidata.org/entity/Q39>', 46.798, 8.2319)}\n",
      "('<http://www.wikidata.org/entity/Q537874>', 'John Pope-Hennessy') {('Italy', '<http://www.wikidata.org/entity/Q38>', 42.5, 12.5), ('Skulpturensammlung Dresden', '<http://www.wikidata.org/entity/Q869690>', 51.051, 13.744), ('New York University', '<http://www.wikidata.org/entity/Q49210>', 40.73, -73.99), ('Siena', '<http://www.wikidata.org/entity/Q2751>', 43.318, 11.331), ('British Museum', '<http://www.wikidata.org/entity/Q6373>', 51.519, -0.127)}\n",
      "('<http://www.wikidata.org/entity/Q61913691>', 'Luisa Vertova') {('Harvard University Center for Italian Renaissance Studies', '<http://www.wikidata.org/entity/Q3558578>', 43.794, 11.315), ('Settignano', '<http://www.wikidata.org/entity/Q942605>', 43.782, 11.322), ('Rome', '<http://www.wikidata.org/entity/Q220>', 41.893, 12.482), ('London', '<http://www.wikidata.org/entity/Q84>', 51.507, -0.127), ('Lombardy', '<http://www.wikidata.org/entity/Q1210>', 45.65, 9.95), ('Milan', '<http://www.wikidata.org/entity/Q490>', 45.466, 9.19), ('Florence', '<http://www.wikidata.org/entity/Q2044>', 43.771, 11.254)}\n",
      "('<http://www.wikidata.org/entity/Q2824734>', 'Adolfo Venturi') {('Modena', '<http://www.wikidata.org/entity/Q279>', 44.645, 10.925), ('Galleria Estense', '<http://www.wikidata.org/entity/Q774128>', 44.648, 10.921), ('Rome', '<http://www.wikidata.org/entity/Q220>', 41.893, 12.482), ('Galleria Estense', '<http://www.wikidata.org/entity/Q774128>', 44.648, 10.92)}\n",
      "('<http://www.wikidata.org/entity/Q1629748>', 'Kurt Badt') {('University of Vienna', '<http://www.wikidata.org/entity/Q165980>', 48.213, 16.359), ('Ludwig Maximilian University of Munich', '<http://www.wikidata.org/entity/Q55044>', 48.15, 11.58), ('University of London', '<http://www.wikidata.org/entity/Q170027>', 51.521, -0.128), ('Kunsthalle Bremen', '<http://www.wikidata.org/entity/Q693591>', 53.072, 8.8136), ('University of Freiburg', '<http://www.wikidata.org/entity/Q153987>', 47.994, 7.8469), ('Humboldt University of Berlin', '<http://www.wikidata.org/entity/Q152087>', 52.518, 13.393)}\n",
      "('<http://www.wikidata.org/entity/Q85761254>', 'Julian Kliemann') {('Harvard University Center for Italian Renaissance Studies', '<http://www.wikidata.org/entity/Q3558578>', 43.794, 11.315), ('Getty Research Institute', '<http://www.wikidata.org/entity/Q11203476>', 34.076, -118.4), ('Ludwig Maximilian University of Munich', '<http://www.wikidata.org/entity/Q55044>', 48.15, 11.58), ('Rome', '<http://www.wikidata.org/entity/Q220>', 41.893, 12.482), ('Heidelberg University', '<http://www.wikidata.org/entity/Q151510>', 49.41, 8.7063), ('Humboldt University of Berlin', '<http://www.wikidata.org/entity/Q152087>', 52.518, 13.393)}\n",
      "('<http://www.wikidata.org/entity/Q41616785>', 'Gustav Ludwig') {('Vienna', '<http://www.wikidata.org/entity/Q1741>', 48.208, 16.373), ('Venice', '<http://www.wikidata.org/entity/Q641>', 45.439, 12.331), ('London', '<http://www.wikidata.org/entity/Q84>', 51.507, -0.127)}\n"
     ]
    }
   ],
   "source": [
    "for k, v in related.items():  #for each art historian I extract those main subjects which are defined as places in wikidatata \n",
    "    relatedlist = ' '.join(v)\n",
    "    query_results = \"\"\"\n",
    "        PREFIX wdt: <http://www.wikidata.org/prop/direct/>\n",
    "        SELECT DISTINCT ?place ?place_label ?coord (group_concat(?type_label ; separator=\"; \") as ?label) \n",
    "        WHERE {\n",
    "            VALUES ?place {\"\"\"+relatedlist+\"\"\"} . \n",
    "            ?place rdfs:label ?place_label . \n",
    "            FILTER (langMatches(lang(?place_label), \"EN\")) . \n",
    "            ?place wdt:P625 ?coord; wdt:P31 ?type . \n",
    "            ?type rdfs:label ?type_label . \n",
    "            FILTER (langMatches(lang(?type_label), \"EN\"))\n",
    "            } \n",
    "            group by ?place ?place_label ?coord ?label\n",
    "        \"\"\"\n",
    "\n",
    "    # set the endpoint \n",
    "    sparql_wd = SPARQLWrapper(wikidata_endpoint)\n",
    "    # set the query\n",
    "    sparql_wd.setQuery(query_results)\n",
    "    # set the returned format\n",
    "    sparql_wd.setReturnFormat(JSON)\n",
    "    # get the results\n",
    "    results = sparql_wd.query().convert()\n",
    "    \n",
    "\n",
    "\n",
    "    for result in results[\"results\"][\"bindings\"]:\n",
    "        place = '<' + str(result[\"place\"][\"value\"]) + '>'\n",
    "        place_name = result[\"place_label\"][\"value\"]\n",
    "        coord = result[\"coord\"][\"value\"][6:-1].split(\" \")\n",
    "        type_label = result[\"label\"][\"value\"].split(\"; \")[0]\n",
    "        type_label_list = type_label.split(\" \")\n",
    "        place_info = tuple([place_name, place, float(coord[1][0:6]), float(coord[0][0:6])])\n",
    "        #print(key)\n",
    "        for value in v:\n",
    "            if k not in luoghi.keys():\n",
    "                luoghi[k] = set([place_info])\n",
    "            else:\n",
    "                luoghi[k].add(place_info)\n",
    "                \n",
    "\n",
    "                \n",
    "for k, v in luoghi.items():\n",
    "    print(k, v)\n"
   ]
  },
  {
   "cell_type": "markdown",
   "metadata": {},
   "source": [
    "Filtrati i nostri dati, procediamo con la visualizzazione. Decidiamo di utilizzare una mappa geografica e di implementarla tramite la library  __[IpyLeaflet](https://ipyleaflet.readthedocs.io/en/latest/)__, costruita a partire dalla famosa library di JavaScript, ma customizzata per Jupyter Notebook."
   ]
  },
  {
   "cell_type": "code",
   "execution_count": 54,
   "metadata": {
    "scrolled": true
   },
   "outputs": [
    {
     "data": {
      "application/vnd.jupyter.widget-view+json": {
       "model_id": "5831f1fc8b62421cb4a7bacca3bbfd09",
       "version_major": 2,
       "version_minor": 0
      },
      "text/plain": [
       "Map(center=[41.080684, -30.683374], close_popup_on_click=False, controls=(ZoomControl(options=['position', 'zo…"
      ]
     },
     "metadata": {},
     "output_type": "display_data"
    }
   ],
   "source": [
    "! pip install ipyleaflet\n",
    "! pip install ipywidgets\n",
    "\n",
    "from ipyleaflet import LayerGroup, Map, Marker, Popup, LayersControl, AwesomeIcon\n",
    "from ipywidgets import HTML\n",
    "\n",
    "import random \n",
    "center = (41.080684, -30.683374)\n",
    "\n",
    "colors = ['red', 'darkred', 'lightred', 'orange', 'beige', 'green', 'darkgreen', 'lightgreen', 'blue', 'darkblue', 'lightblue', 'purple', 'darkpurple', 'pink', 'cadetblue', 'gray', 'lightgray', 'black']\n",
    "\n",
    "\n",
    "m = Map(center=center, zoom=3, close_popup_on_click=False)\n",
    "control = LayersControl(position='topright')\n",
    "m.add_control(control)\n",
    "\n",
    "for k,v in luoghi.items():\n",
    "    layer_group = LayerGroup(layers=(), name=k[1]) #creating different layers for different historians\n",
    "    m.add_layer(layer_group)\n",
    "    #print(k, v)\n",
    "    icon2 = AwesomeIcon(\n",
    "        name = \"map-marker\",\n",
    "        marker_color= random.choice(colors),\n",
    "        icon_color='white',\n",
    "        spin=False\n",
    "        )\n",
    "    for value in v:\n",
    "        #print(value)\n",
    "        marker = Marker(icon = icon2, location=(value[2], value[3]))\n",
    "        message = HTML()\n",
    "        \n",
    "        message.description = \"\"\n",
    "        message.value =\"<b>\" + \"<a href='http://artchives.fondazionezeri.unibo.it/historian-\" + k[0][32:-1] +\"'>\" + k[1] + \"</a>\" + \"</b>\" + \"<br>\"  + value[0]\n",
    "        marker.popup = message\n",
    "        layer_group.add_layer(marker)\n",
    "\n",
    "\n",
    "\n",
    "\n",
    "\n",
    "m"
   ]
  },
  {
   "cell_type": "markdown",
   "metadata": {},
   "source": [
    "Questo tipo di visualizzazione spaziale ci permette di:\n",
    "- Evidenziare immediatamente quale sia la distribuzione dei luoghi rilevanti per gli studi di storia dell'arte nel '900. \n",
    "> - Effettivamente, un cluster è presente in corrispondenza con l'Italia e la Germania, in linea con lo sviluppo della storia dell'arte come disciplina accademica e le varie scuole europee.\n",
    "> - È anche evidente una densificazione di marker sulla costa orientale americana, in particolare nell'area di New York. Questo potrebbe essere collegato al processo per cui, dopo la guerra civile americana, gli Stati Uniti divennero una delle principali potenze economiche e imperiali, che iniziò anche a esprimere la sua influenza attraverso manifestazioni culturali e sociali. Ciò implicò una grande espansione sia delle istituzioni museali americane che delle pratiche di collezionismo privati che attirò un gran numero di esperti europei\n",
    "- Identificare i percorsi di formazione dei singoli storici.\n",
    "\n",
    "\n",
    "\n",
    "\n"
   ]
  },
  {
   "cell_type": "markdown",
   "metadata": {},
   "source": [
    "### Prospettive future"
   ]
  },
  {
   "cell_type": "markdown",
   "metadata": {},
   "source": [
    "Abbiamo visto come sviluppare data visualization per evidenziare:\n",
    "   - aspetti statistici\n",
    "   - aspetti relazionali\n",
    "   - aspetti geospaziali\n",
    "\n",
    "Una prospettiva su cui stiamo lavorando è l'interrelazione fra questi aspetti, per verificare se la copresenza di features diverse abbia degli effettivi riscontri nei contenuti degli archivi e nelle biografie degli storici dell'arte. Ci stiamo concentrando sullo sviluppo di euristiche e visualizzazioni che suggeriscano percorsi di ricerca per andare oltre il dato di cui siamo effettivamente in possesso. "
   ]
  },
  {
   "cell_type": "markdown",
   "metadata": {},
   "source": [
    "Grazie!\n",
    "<br>\n",
    "<br>\n",
    "__Francesca Mambelli__ francesca.mambelli6@unibo.it\n",
    "<br>\n",
    "__Lucia Giagnolini__ lucia.giagnolini2@unibo.it\n"
   ]
  },
  {
   "cell_type": "code",
   "execution_count": null,
   "metadata": {},
   "outputs": [],
   "source": []
  }
 ],
 "metadata": {
  "kernelspec": {
   "display_name": "Python 3",
   "language": "python",
   "name": "python3"
  },
  "language_info": {
   "codemirror_mode": {
    "name": "ipython",
    "version": 3
   },
   "file_extension": ".py",
   "mimetype": "text/x-python",
   "name": "python",
   "nbconvert_exporter": "python",
   "pygments_lexer": "ipython3",
   "version": "3.8.5"
  }
 },
 "nbformat": 4,
 "nbformat_minor": 4
}
